{
 "cells": [
  {
   "cell_type": "markdown",
   "metadata": {},
   "source": [
    "## Características para modelos de aprendizaje automatico para LDA"
   ]
  },
  {
   "cell_type": "code",
   "execution_count": 1,
   "metadata": {},
   "outputs": [],
   "source": [
    "import pandas as pd\n",
    "import os\n",
    "import re\n",
    "import nltk\n",
    "import seaborn as sns\n",
    "import matplotlib.pyplot as plt\n",
    "import numpy as np\n",
    "from sklearn.feature_extraction.text import TfidfVectorizer\n",
    "from sklearn.linear_model import LogisticRegression\n",
    "from sklearn.pipeline import make_pipeline\n",
    "from sklearn.model_selection import train_test_split\n",
    "from nltk.stem import SnowballStemmer\n",
    "from nltk.corpus import stopwords\n",
    "\n"
   ]
  },
  {
   "cell_type": "code",
   "execution_count": 2,
   "metadata": {},
   "outputs": [
    {
     "name": "stdout",
     "output_type": "stream",
     "text": [
      "El directorio de trabajo actual es: g:\\Unidades compartidas\\Rocío doctorado\\Proyecto NLP\\Códigos\\LDA\n"
     ]
    }
   ],
   "source": [
    "directorio_actual = os.getcwd()\n",
    "print(\"El directorio de trabajo actual es:\", directorio_actual)"
   ]
  },
  {
   "cell_type": "code",
   "execution_count": 3,
   "metadata": {},
   "outputs": [
    {
     "data": {
      "text/html": [
       "<div>\n",
       "<style scoped>\n",
       "    .dataframe tbody tr th:only-of-type {\n",
       "        vertical-align: middle;\n",
       "    }\n",
       "\n",
       "    .dataframe tbody tr th {\n",
       "        vertical-align: top;\n",
       "    }\n",
       "\n",
       "    .dataframe thead th {\n",
       "        text-align: right;\n",
       "    }\n",
       "</style>\n",
       "<table border=\"1\" class=\"dataframe\">\n",
       "  <thead>\n",
       "    <tr style=\"text-align: right;\">\n",
       "      <th></th>\n",
       "      <th>Unnamed: 0</th>\n",
       "      <th>retweet_count</th>\n",
       "      <th>full_text</th>\n",
       "      <th>posicion</th>\n",
       "      <th>user_name</th>\n",
       "      <th>user_id</th>\n",
       "      <th>clean_text</th>\n",
       "      <th>topico</th>\n",
       "    </tr>\n",
       "  </thead>\n",
       "  <tbody>\n",
       "    <tr>\n",
       "      <th>0</th>\n",
       "      <td>2</td>\n",
       "      <td>0</td>\n",
       "      <td>En el fondo lo que les jode es nuestra liberta...</td>\n",
       "      <td>si</td>\n",
       "      <td>Luz Scarpati</td>\n",
       "      <td>2999619141</td>\n",
       "      <td>fondo jode libertad novotencontralasmujeres ab...</td>\n",
       "      <td>0</td>\n",
       "    </tr>\n",
       "    <tr>\n",
       "      <th>1</th>\n",
       "      <td>3</td>\n",
       "      <td>0</td>\n",
       "      <td>holla! me gustaría q ayuden a esta junta d fir...</td>\n",
       "      <td>si</td>\n",
       "      <td>gigi not hadid</td>\n",
       "      <td>3668114236</td>\n",
       "      <td>holla gustaría q ayuden junta d firmas aborto ...</td>\n",
       "      <td>0</td>\n",
       "    </tr>\n",
       "    <tr>\n",
       "      <th>2</th>\n",
       "      <td>6</td>\n",
       "      <td>0</td>\n",
       "      <td>Porque somos dueñas de nuestrxs cuerpas #NoVot...</td>\n",
       "      <td>si</td>\n",
       "      <td>Malena Bianca</td>\n",
       "      <td>66200186</td>\n",
       "      <td>dueñas nuestrxs cuerpas novotencontralasmujeres</td>\n",
       "      <td>0</td>\n",
       "    </tr>\n",
       "    <tr>\n",
       "      <th>3</th>\n",
       "      <td>9</td>\n",
       "      <td>0</td>\n",
       "      <td>#NoVotenContraLasMujeres estoy tan a la mitad ...</td>\n",
       "      <td>si</td>\n",
       "      <td>Cecilia</td>\n",
       "      <td>1005138863784976385</td>\n",
       "      <td>novotencontralasmujeres tan mitad tener postur...</td>\n",
       "      <td>0</td>\n",
       "    </tr>\n",
       "    <tr>\n",
       "      <th>4</th>\n",
       "      <td>15</td>\n",
       "      <td>0</td>\n",
       "      <td>@MatiasRodrigTDF @LuzScarpati Que los @Diputad...</td>\n",
       "      <td>si</td>\n",
       "      <td>Elida Rechi</td>\n",
       "      <td>1475112482</td>\n",
       "      <td>novotencontralasmujeres quesealey</td>\n",
       "      <td>0</td>\n",
       "    </tr>\n",
       "  </tbody>\n",
       "</table>\n",
       "</div>"
      ],
      "text/plain": [
       "   Unnamed: 0  retweet_count  \\\n",
       "0           2              0   \n",
       "1           3              0   \n",
       "2           6              0   \n",
       "3           9              0   \n",
       "4          15              0   \n",
       "\n",
       "                                           full_text posicion       user_name  \\\n",
       "0  En el fondo lo que les jode es nuestra liberta...       si    Luz Scarpati   \n",
       "1  holla! me gustaría q ayuden a esta junta d fir...       si  gigi not hadid   \n",
       "2  Porque somos dueñas de nuestrxs cuerpas #NoVot...       si   Malena Bianca   \n",
       "3  #NoVotenContraLasMujeres estoy tan a la mitad ...       si         Cecilia   \n",
       "4  @MatiasRodrigTDF @LuzScarpati Que los @Diputad...       si     Elida Rechi   \n",
       "\n",
       "               user_id                                         clean_text  \\\n",
       "0           2999619141  fondo jode libertad novotencontralasmujeres ab...   \n",
       "1           3668114236  holla gustaría q ayuden junta d firmas aborto ...   \n",
       "2             66200186    dueñas nuestrxs cuerpas novotencontralasmujeres   \n",
       "3  1005138863784976385  novotencontralasmujeres tan mitad tener postur...   \n",
       "4           1475112482                  novotencontralasmujeres quesealey   \n",
       "\n",
       "   topico  \n",
       "0       0  \n",
       "1       0  \n",
       "2       0  \n",
       "3       0  \n",
       "4       0  "
      ]
     },
     "execution_count": 3,
     "metadata": {},
     "output_type": "execute_result"
    }
   ],
   "source": [
    "df_lda = pd.read_csv('G:/Unidades compartidas/Rocío doctorado/Proyecto NLP/Datos/tweets_junio_LDA.csv')\n",
    "df_lda.head(5)"
   ]
  },
  {
   "cell_type": "code",
   "execution_count": 4,
   "metadata": {},
   "outputs": [
    {
     "name": "stdout",
     "output_type": "stream",
     "text": [
      "fondo jode libertad novotencontralasmujeres abortolegalya\n"
     ]
    },
    {
     "data": {
      "text/plain": [
       "'En el fondo lo que les jode es nuestra libertad #NoVotenContraLasMujeres #AbortoLegalYA'"
      ]
     },
     "execution_count": 4,
     "metadata": {},
     "output_type": "execute_result"
    }
   ],
   "source": [
    "print(df_lda['clean_text'][0])\n",
    "df_lda['full_text'][0]"
   ]
  },
  {
   "cell_type": "code",
   "execution_count": 5,
   "metadata": {},
   "outputs": [
    {
     "data": {
      "text/plain": [
       "Index(['Unnamed: 0', 'retweet_count', 'full_text', 'posicion', 'user_name',\n",
       "       'user_id', 'clean_text', 'topico'],\n",
       "      dtype='object')"
      ]
     },
     "execution_count": 5,
     "metadata": {},
     "output_type": "execute_result"
    }
   ],
   "source": [
    "df_lda.columns"
   ]
  },
  {
   "cell_type": "code",
   "execution_count": 6,
   "metadata": {},
   "outputs": [
    {
     "data": {
      "text/html": [
       "<div>\n",
       "<style scoped>\n",
       "    .dataframe tbody tr th:only-of-type {\n",
       "        vertical-align: middle;\n",
       "    }\n",
       "\n",
       "    .dataframe tbody tr th {\n",
       "        vertical-align: top;\n",
       "    }\n",
       "\n",
       "    .dataframe thead th {\n",
       "        text-align: right;\n",
       "    }\n",
       "</style>\n",
       "<table border=\"1\" class=\"dataframe\">\n",
       "  <thead>\n",
       "    <tr style=\"text-align: right;\">\n",
       "      <th></th>\n",
       "      <th>full_text</th>\n",
       "      <th>posicion</th>\n",
       "      <th>topico</th>\n",
       "    </tr>\n",
       "  </thead>\n",
       "  <tbody>\n",
       "    <tr>\n",
       "      <th>0</th>\n",
       "      <td>En el fondo lo que les jode es nuestra liberta...</td>\n",
       "      <td>si</td>\n",
       "      <td>0</td>\n",
       "    </tr>\n",
       "    <tr>\n",
       "      <th>1</th>\n",
       "      <td>holla! me gustaría q ayuden a esta junta d fir...</td>\n",
       "      <td>si</td>\n",
       "      <td>0</td>\n",
       "    </tr>\n",
       "    <tr>\n",
       "      <th>2</th>\n",
       "      <td>Porque somos dueñas de nuestrxs cuerpas #NoVot...</td>\n",
       "      <td>si</td>\n",
       "      <td>0</td>\n",
       "    </tr>\n",
       "    <tr>\n",
       "      <th>3</th>\n",
       "      <td>#NoVotenContraLasMujeres estoy tan a la mitad ...</td>\n",
       "      <td>si</td>\n",
       "      <td>0</td>\n",
       "    </tr>\n",
       "    <tr>\n",
       "      <th>4</th>\n",
       "      <td>@MatiasRodrigTDF @LuzScarpati Que los @Diputad...</td>\n",
       "      <td>si</td>\n",
       "      <td>0</td>\n",
       "    </tr>\n",
       "  </tbody>\n",
       "</table>\n",
       "</div>"
      ],
      "text/plain": [
       "                                           full_text posicion  topico\n",
       "0  En el fondo lo que les jode es nuestra liberta...       si       0\n",
       "1  holla! me gustaría q ayuden a esta junta d fir...       si       0\n",
       "2  Porque somos dueñas de nuestrxs cuerpas #NoVot...       si       0\n",
       "3  #NoVotenContraLasMujeres estoy tan a la mitad ...       si       0\n",
       "4  @MatiasRodrigTDF @LuzScarpati Que los @Diputad...       si       0"
      ]
     },
     "execution_count": 6,
     "metadata": {},
     "output_type": "execute_result"
    }
   ],
   "source": [
    "lda_filtradas=df_lda[['full_text', 'posicion','topico']]\n",
    "lda_filtradas.head()"
   ]
  },
  {
   "cell_type": "code",
   "execution_count": 7,
   "metadata": {},
   "outputs": [
    {
     "name": "stderr",
     "output_type": "stream",
     "text": [
      "C:\\Users\\Usuario\\AppData\\Local\\Temp\\ipykernel_22764\\1154062917.py:21: SettingWithCopyWarning: \n",
      "A value is trying to be set on a copy of a slice from a DataFrame.\n",
      "Try using .loc[row_indexer,col_indexer] = value instead\n",
      "\n",
      "See the caveats in the documentation: https://pandas.pydata.org/pandas-docs/stable/user_guide/indexing.html#returning-a-view-versus-a-copy\n",
      "  lda_filtradas.loc[:, 'full_text_cleaned'] = lda_filtradas['full_text'].apply(clean_tweet)\n",
      "C:\\Users\\Usuario\\AppData\\Local\\Temp\\ipykernel_22764\\1154062917.py:24: SettingWithCopyWarning: \n",
      "A value is trying to be set on a copy of a slice from a DataFrame.\n",
      "Try using .loc[row_indexer,col_indexer] = value instead\n",
      "\n",
      "See the caveats in the documentation: https://pandas.pydata.org/pandas-docs/stable/user_guide/indexing.html#returning-a-view-versus-a-copy\n",
      "  lda_filtradas.loc[:, 'Question Mark'] = lda_filtradas['full_text'].apply(lambda x: '?' in x or '¿' in x)\n",
      "C:\\Users\\Usuario\\AppData\\Local\\Temp\\ipykernel_22764\\1154062917.py:27: SettingWithCopyWarning: \n",
      "A value is trying to be set on a copy of a slice from a DataFrame.\n",
      "Try using .loc[row_indexer,col_indexer] = value instead\n",
      "\n",
      "See the caveats in the documentation: https://pandas.pydata.org/pandas-docs/stable/user_guide/indexing.html#returning-a-view-versus-a-copy\n",
      "  lda_filtradas.loc[:, 'Question Mark Count'] = lda_filtradas['full_text'].apply(lambda x: x.count('?') + x.count('¿'))\n",
      "C:\\Users\\Usuario\\AppData\\Local\\Temp\\ipykernel_22764\\1154062917.py:30: SettingWithCopyWarning: \n",
      "A value is trying to be set on a copy of a slice from a DataFrame.\n",
      "Try using .loc[row_indexer,col_indexer] = value instead\n",
      "\n",
      "See the caveats in the documentation: https://pandas.pydata.org/pandas-docs/stable/user_guide/indexing.html#returning-a-view-versus-a-copy\n",
      "  lda_filtradas.loc[:, 'Starts with Question Mark'] = lda_filtradas['full_text'].apply(lambda x: x.strip().startswith('¿'))\n"
     ]
    },
    {
     "data": {
      "text/html": [
       "<div>\n",
       "<style scoped>\n",
       "    .dataframe tbody tr th:only-of-type {\n",
       "        vertical-align: middle;\n",
       "    }\n",
       "\n",
       "    .dataframe tbody tr th {\n",
       "        vertical-align: top;\n",
       "    }\n",
       "\n",
       "    .dataframe thead th {\n",
       "        text-align: right;\n",
       "    }\n",
       "</style>\n",
       "<table border=\"1\" class=\"dataframe\">\n",
       "  <thead>\n",
       "    <tr style=\"text-align: right;\">\n",
       "      <th></th>\n",
       "      <th>full_text</th>\n",
       "      <th>posicion</th>\n",
       "      <th>topico</th>\n",
       "      <th>full_text_cleaned</th>\n",
       "      <th>Question Mark</th>\n",
       "      <th>Question Mark Count</th>\n",
       "      <th>Starts with Question Mark</th>\n",
       "      <th>Ends with Mark Count</th>\n",
       "      <th>Upper Ratio</th>\n",
       "      <th>Exclamation Mark</th>\n",
       "      <th>Exclamation Mark Count</th>\n",
       "      <th>Ellipsis Occurrence</th>\n",
       "      <th>Hashtag Presence</th>\n",
       "      <th>Text Length</th>\n",
       "      <th>URL Count</th>\n",
       "      <th>Quotes</th>\n",
       "    </tr>\n",
       "  </thead>\n",
       "  <tbody>\n",
       "    <tr>\n",
       "      <th>0</th>\n",
       "      <td>En el fondo lo que les jode es nuestra liberta...</td>\n",
       "      <td>si</td>\n",
       "      <td>0</td>\n",
       "      <td>En el fondo lo que les jode es nuestra liberta...</td>\n",
       "      <td>False</td>\n",
       "      <td>0</td>\n",
       "      <td>False</td>\n",
       "      <td>False</td>\n",
       "      <td>0.114943</td>\n",
       "      <td>False</td>\n",
       "      <td>0</td>\n",
       "      <td>False</td>\n",
       "      <td>True</td>\n",
       "      <td>47</td>\n",
       "      <td>0</td>\n",
       "      <td>False</td>\n",
       "    </tr>\n",
       "    <tr>\n",
       "      <th>1</th>\n",
       "      <td>holla! me gustaría q ayuden a esta junta d fir...</td>\n",
       "      <td>si</td>\n",
       "      <td>0</td>\n",
       "      <td>holla! me gustaría q ayuden a esta junta d fir...</td>\n",
       "      <td>False</td>\n",
       "      <td>0</td>\n",
       "      <td>False</td>\n",
       "      <td>False</td>\n",
       "      <td>0.076577</td>\n",
       "      <td>True</td>\n",
       "      <td>1</td>\n",
       "      <td>False</td>\n",
       "      <td>True</td>\n",
       "      <td>145</td>\n",
       "      <td>1</td>\n",
       "      <td>False</td>\n",
       "    </tr>\n",
       "    <tr>\n",
       "      <th>2</th>\n",
       "      <td>Porque somos dueñas de nuestrxs cuerpas #NoVot...</td>\n",
       "      <td>si</td>\n",
       "      <td>0</td>\n",
       "      <td>Porque somos dueñas de nuestrxs cuerpas #NoVot...</td>\n",
       "      <td>False</td>\n",
       "      <td>0</td>\n",
       "      <td>False</td>\n",
       "      <td>False</td>\n",
       "      <td>0.093750</td>\n",
       "      <td>False</td>\n",
       "      <td>0</td>\n",
       "      <td>False</td>\n",
       "      <td>True</td>\n",
       "      <td>39</td>\n",
       "      <td>0</td>\n",
       "      <td>False</td>\n",
       "    </tr>\n",
       "    <tr>\n",
       "      <th>3</th>\n",
       "      <td>#NoVotenContraLasMujeres estoy tan a la mitad ...</td>\n",
       "      <td>si</td>\n",
       "      <td>0</td>\n",
       "      <td>#NoVotenContraLasMujeres estoy tan a la mitad ...</td>\n",
       "      <td>False</td>\n",
       "      <td>0</td>\n",
       "      <td>False</td>\n",
       "      <td>False</td>\n",
       "      <td>0.029412</td>\n",
       "      <td>True</td>\n",
       "      <td>4</td>\n",
       "      <td>False</td>\n",
       "      <td>True</td>\n",
       "      <td>145</td>\n",
       "      <td>0</td>\n",
       "      <td>False</td>\n",
       "    </tr>\n",
       "    <tr>\n",
       "      <th>4</th>\n",
       "      <td>@MatiasRodrigTDF @LuzScarpati Que los @Diputad...</td>\n",
       "      <td>si</td>\n",
       "      <td>0</td>\n",
       "      <td>Que los   #NoVotenContraLasMujeres #QueSeaLey</td>\n",
       "      <td>False</td>\n",
       "      <td>0</td>\n",
       "      <td>False</td>\n",
       "      <td>False</td>\n",
       "      <td>0.218391</td>\n",
       "      <td>False</td>\n",
       "      <td>0</td>\n",
       "      <td>False</td>\n",
       "      <td>True</td>\n",
       "      <td>7</td>\n",
       "      <td>0</td>\n",
       "      <td>False</td>\n",
       "    </tr>\n",
       "    <tr>\n",
       "      <th>...</th>\n",
       "      <td>...</td>\n",
       "      <td>...</td>\n",
       "      <td>...</td>\n",
       "      <td>...</td>\n",
       "      <td>...</td>\n",
       "      <td>...</td>\n",
       "      <td>...</td>\n",
       "      <td>...</td>\n",
       "      <td>...</td>\n",
       "      <td>...</td>\n",
       "      <td>...</td>\n",
       "      <td>...</td>\n",
       "      <td>...</td>\n",
       "      <td>...</td>\n",
       "      <td>...</td>\n",
       "      <td>...</td>\n",
       "    </tr>\n",
       "    <tr>\n",
       "      <th>392959</th>\n",
       "      <td>Ojalá los médicos se organicen y marchen para ...</td>\n",
       "      <td>no</td>\n",
       "      <td>0</td>\n",
       "      <td>Ojalá los médicos se organicen y marchen para ...</td>\n",
       "      <td>False</td>\n",
       "      <td>0</td>\n",
       "      <td>False</td>\n",
       "      <td>False</td>\n",
       "      <td>0.046875</td>\n",
       "      <td>False</td>\n",
       "      <td>0</td>\n",
       "      <td>False</td>\n",
       "      <td>True</td>\n",
       "      <td>116</td>\n",
       "      <td>0</td>\n",
       "      <td>False</td>\n",
       "    </tr>\n",
       "    <tr>\n",
       "      <th>392960</th>\n",
       "      <td>RT @Macamil1: #ArgentinaEsProvida Quien es qui...</td>\n",
       "      <td>no</td>\n",
       "      <td>1</td>\n",
       "      <td>#ArgentinaEsProvida Quien es quién en el Senad...</td>\n",
       "      <td>False</td>\n",
       "      <td>0</td>\n",
       "      <td>False</td>\n",
       "      <td>False</td>\n",
       "      <td>0.139535</td>\n",
       "      <td>False</td>\n",
       "      <td>0</td>\n",
       "      <td>False</td>\n",
       "      <td>True</td>\n",
       "      <td>34</td>\n",
       "      <td>1</td>\n",
       "      <td>False</td>\n",
       "    </tr>\n",
       "    <tr>\n",
       "      <th>392961</th>\n",
       "      <td>Debe estar senil ya pobre. Avísenle que el bla...</td>\n",
       "      <td>no</td>\n",
       "      <td>1</td>\n",
       "      <td>Debe estar senil ya pobre. Avísenle que el bla...</td>\n",
       "      <td>False</td>\n",
       "      <td>0</td>\n",
       "      <td>False</td>\n",
       "      <td>False</td>\n",
       "      <td>0.109848</td>\n",
       "      <td>False</td>\n",
       "      <td>0</td>\n",
       "      <td>False</td>\n",
       "      <td>True</td>\n",
       "      <td>97</td>\n",
       "      <td>1</td>\n",
       "      <td>False</td>\n",
       "    </tr>\n",
       "    <tr>\n",
       "      <th>392962</th>\n",
       "      <td>RT @JuanFaerman: Aranguren y Cabrera: los prim...</td>\n",
       "      <td>no</td>\n",
       "      <td>1</td>\n",
       "      <td>Aranguren y Cabrera: los primeros abortados. #...</td>\n",
       "      <td>False</td>\n",
       "      <td>0</td>\n",
       "      <td>False</td>\n",
       "      <td>False</td>\n",
       "      <td>0.112500</td>\n",
       "      <td>False</td>\n",
       "      <td>0</td>\n",
       "      <td>False</td>\n",
       "      <td>True</td>\n",
       "      <td>49</td>\n",
       "      <td>0</td>\n",
       "      <td>False</td>\n",
       "    </tr>\n",
       "    <tr>\n",
       "      <th>392963</th>\n",
       "      <td>RT @JuanFaerman: Aranguren y Cabrera: los prim...</td>\n",
       "      <td>no</td>\n",
       "      <td>1</td>\n",
       "      <td>Aranguren y Cabrera: los primeros abortados. #...</td>\n",
       "      <td>False</td>\n",
       "      <td>0</td>\n",
       "      <td>False</td>\n",
       "      <td>False</td>\n",
       "      <td>0.112500</td>\n",
       "      <td>False</td>\n",
       "      <td>0</td>\n",
       "      <td>False</td>\n",
       "      <td>True</td>\n",
       "      <td>49</td>\n",
       "      <td>0</td>\n",
       "      <td>False</td>\n",
       "    </tr>\n",
       "  </tbody>\n",
       "</table>\n",
       "<p>392964 rows × 16 columns</p>\n",
       "</div>"
      ],
      "text/plain": [
       "                                                full_text posicion  topico  \\\n",
       "0       En el fondo lo que les jode es nuestra liberta...       si       0   \n",
       "1       holla! me gustaría q ayuden a esta junta d fir...       si       0   \n",
       "2       Porque somos dueñas de nuestrxs cuerpas #NoVot...       si       0   \n",
       "3       #NoVotenContraLasMujeres estoy tan a la mitad ...       si       0   \n",
       "4       @MatiasRodrigTDF @LuzScarpati Que los @Diputad...       si       0   \n",
       "...                                                   ...      ...     ...   \n",
       "392959  Ojalá los médicos se organicen y marchen para ...       no       0   \n",
       "392960  RT @Macamil1: #ArgentinaEsProvida Quien es qui...       no       1   \n",
       "392961  Debe estar senil ya pobre. Avísenle que el bla...       no       1   \n",
       "392962  RT @JuanFaerman: Aranguren y Cabrera: los prim...       no       1   \n",
       "392963  RT @JuanFaerman: Aranguren y Cabrera: los prim...       no       1   \n",
       "\n",
       "                                        full_text_cleaned  Question Mark  \\\n",
       "0       En el fondo lo que les jode es nuestra liberta...          False   \n",
       "1       holla! me gustaría q ayuden a esta junta d fir...          False   \n",
       "2       Porque somos dueñas de nuestrxs cuerpas #NoVot...          False   \n",
       "3       #NoVotenContraLasMujeres estoy tan a la mitad ...          False   \n",
       "4           Que los   #NoVotenContraLasMujeres #QueSeaLey          False   \n",
       "...                                                   ...            ...   \n",
       "392959  Ojalá los médicos se organicen y marchen para ...          False   \n",
       "392960  #ArgentinaEsProvida Quien es quién en el Senad...          False   \n",
       "392961  Debe estar senil ya pobre. Avísenle que el bla...          False   \n",
       "392962  Aranguren y Cabrera: los primeros abortados. #...          False   \n",
       "392963  Aranguren y Cabrera: los primeros abortados. #...          False   \n",
       "\n",
       "        Question Mark Count  Starts with Question Mark  Ends with Mark Count  \\\n",
       "0                         0                      False                 False   \n",
       "1                         0                      False                 False   \n",
       "2                         0                      False                 False   \n",
       "3                         0                      False                 False   \n",
       "4                         0                      False                 False   \n",
       "...                     ...                        ...                   ...   \n",
       "392959                    0                      False                 False   \n",
       "392960                    0                      False                 False   \n",
       "392961                    0                      False                 False   \n",
       "392962                    0                      False                 False   \n",
       "392963                    0                      False                 False   \n",
       "\n",
       "        Upper Ratio  Exclamation Mark  Exclamation Mark Count  \\\n",
       "0          0.114943             False                       0   \n",
       "1          0.076577              True                       1   \n",
       "2          0.093750             False                       0   \n",
       "3          0.029412              True                       4   \n",
       "4          0.218391             False                       0   \n",
       "...             ...               ...                     ...   \n",
       "392959     0.046875             False                       0   \n",
       "392960     0.139535             False                       0   \n",
       "392961     0.109848             False                       0   \n",
       "392962     0.112500             False                       0   \n",
       "392963     0.112500             False                       0   \n",
       "\n",
       "        Ellipsis Occurrence  Hashtag Presence  Text Length  URL Count  Quotes  \n",
       "0                     False              True           47          0   False  \n",
       "1                     False              True          145          1   False  \n",
       "2                     False              True           39          0   False  \n",
       "3                     False              True          145          0   False  \n",
       "4                     False              True            7          0   False  \n",
       "...                     ...               ...          ...        ...     ...  \n",
       "392959                False              True          116          0   False  \n",
       "392960                False              True           34          1   False  \n",
       "392961                False              True           97          1   False  \n",
       "392962                False              True           49          0   False  \n",
       "392963                False              True           49          0   False  \n",
       "\n",
       "[392964 rows x 16 columns]"
      ]
     },
     "execution_count": 7,
     "metadata": {},
     "output_type": "execute_result"
    }
   ],
   "source": [
    "import re\n",
    "import pandas as pd\n",
    "\n",
    "# Función para limpiar los tweets\n",
    "def clean_tweet(text):\n",
    "    # Eliminar 'RT' al inicio del texto\n",
    "    text = re.sub(r'^RT\\s+', '', text)\n",
    "    \n",
    "    # Eliminar menciones (@usuario) y el ':' que pueda seguir\n",
    "    text = re.sub(r'@\\w+:\\s*', '', text)\n",
    "    \n",
    "    # Eliminar cualquier otra mención sin el ':' y espacios innecesarios\n",
    "    text = re.sub(r'@\\w+', '', text)\n",
    "    \n",
    "    # Eliminar espacios extra generados por las eliminaciones\n",
    "    text = text.strip()\n",
    "    \n",
    "    return text\n",
    "\n",
    "# Aplicar la función de limpieza al DataFrame\n",
    "lda_filtradas.loc[:, 'full_text_cleaned'] = lda_filtradas['full_text'].apply(clean_tweet)\n",
    "\n",
    "# Crear nueva columna 'Question Mark': Si hay al menos un signo de interrogación (¿ o ?)\n",
    "lda_filtradas.loc[:, 'Question Mark'] = lda_filtradas['full_text'].apply(lambda x: '?' in x or '¿' in x)\n",
    "\n",
    "# Crear nueva columna 'Question Mark Count': Contar cuántos signos de interrogación hay (¿ o ?)\n",
    "lda_filtradas.loc[:, 'Question Mark Count'] = lda_filtradas['full_text'].apply(lambda x: x.count('?') + x.count('¿'))\n",
    "\n",
    "# Crear nueva columna 'Starts with Question Mark': Si el tweet empieza con al menos un signo de interrogación\n",
    "lda_filtradas.loc[:, 'Starts with Question Mark'] = lda_filtradas['full_text'].apply(lambda x: x.strip().startswith('¿'))\n",
    "\n",
    "# Crear nueva columna 'Ends with Mark Count': Si el tweet termina con al menos un signo de interrogación\n",
    "lda_filtradas.loc[:, 'Ends with Mark Count'] = lda_filtradas['full_text'].apply(lambda x: x.strip().endswith('?'))\n",
    "\n",
    "# Crear nueva columna 'Upper Ratio': Ratio de letras mayúsculas vs letras totales\n",
    "lda_filtradas.loc[:, 'Upper Ratio'] = lda_filtradas['full_text'].apply(lambda x: sum(1 for c in x if c.isupper()) / len(x) if len(x) > 0 else 0)\n",
    "\n",
    "# Crear nueva columna 'Exclamation Mark': Si hay al menos un signo de admiración\n",
    "lda_filtradas.loc[:, 'Exclamation Mark'] = lda_filtradas['full_text'].apply(lambda x: '!' in x or '¡' in x)\n",
    "\n",
    "# Crear nueva columna 'Exclamation Mark Count': Contar cuántos signos de admiración hay\n",
    "lda_filtradas.loc[:, 'Exclamation Mark Count'] = lda_filtradas['full_text'].apply(lambda x: x.count('!') + x.count('¡'))\n",
    "\n",
    "# Crear nueva columna 'Ellipsis Occurrence': Si hay 3 o más puntos seguidos\n",
    "lda_filtradas.loc[:, 'Ellipsis Occurrence'] = lda_filtradas['full_text'].apply(lambda x: '...' in x)\n",
    "\n",
    "# Crear nueva columna 'Hashtag Presence': Presencia de hashtags\n",
    "lda_filtradas.loc[:, 'Hashtag Presence'] = lda_filtradas['full_text'].apply(lambda x: bool(re.search(r'#\\w+', x)))\n",
    "\n",
    "# Crear nueva columna 'Text Length': Largo del texto sin hashtags, URLs, ni menciones de cuentas de Twitter\n",
    "def limpiar_texto(texto):\n",
    "    texto_sin_hashtags_urls = re.sub(r'(@\\w+|http\\S+|#\\w+)', '', texto)  # Remueve hashtags, URLs y menciones\n",
    "    return len(texto_sin_hashtags_urls.strip())\n",
    "\n",
    "lda_filtradas.loc[:, 'Text Length'] = lda_filtradas['full_text'].apply(limpiar_texto)\n",
    "\n",
    "# Crear nueva columna 'URL Count': Cantidad de URLs en el texto\n",
    "lda_filtradas.loc[:, 'URL Count'] = lda_filtradas['full_text'].apply(lambda x: len(re.findall(r'http\\S+', x)))\n",
    "\n",
    "# Crear nueva columna 'Quotes': Si hay palabras entre comillas\n",
    "lda_filtradas.loc[:, 'Quotes'] = lda_filtradas['full_text'].apply(lambda x: bool(re.search(r'[\"“”]', x)))\n",
    "\n",
    "lda_filtradas\n"
   ]
  },
  {
   "cell_type": "markdown",
   "metadata": {},
   "source": [
    "# Eliminamos filas duplicadas"
   ]
  },
  {
   "cell_type": "code",
   "execution_count": 8,
   "metadata": {},
   "outputs": [
    {
     "data": {
      "text/plain": [
       "169639"
      ]
     },
     "execution_count": 8,
     "metadata": {},
     "output_type": "execute_result"
    }
   ],
   "source": [
    "# Eliminar duplicados basándote en la columna 'full_text_cleaned' y conservar el primer tweet que aparezca\n",
    "lda_filtradas_sin_duplicados = lda_filtradas.drop_duplicates(subset='full_text_cleaned', keep='first')\n",
    "indices_sin_duplicados = lda_filtradas_sin_duplicados.index\n",
    "len(indices_sin_duplicados)"
   ]
  },
  {
   "cell_type": "code",
   "execution_count": 9,
   "metadata": {},
   "outputs": [
    {
     "data": {
      "text/html": [
       "<div>\n",
       "<style scoped>\n",
       "    .dataframe tbody tr th:only-of-type {\n",
       "        vertical-align: middle;\n",
       "    }\n",
       "\n",
       "    .dataframe tbody tr th {\n",
       "        vertical-align: top;\n",
       "    }\n",
       "\n",
       "    .dataframe thead th {\n",
       "        text-align: right;\n",
       "    }\n",
       "</style>\n",
       "<table border=\"1\" class=\"dataframe\">\n",
       "  <thead>\n",
       "    <tr style=\"text-align: right;\">\n",
       "      <th></th>\n",
       "      <th>full_text</th>\n",
       "      <th>posicion</th>\n",
       "      <th>topico</th>\n",
       "      <th>full_text_cleaned</th>\n",
       "      <th>Question Mark</th>\n",
       "      <th>Question Mark Count</th>\n",
       "      <th>Starts with Question Mark</th>\n",
       "      <th>Ends with Mark Count</th>\n",
       "      <th>Upper Ratio</th>\n",
       "      <th>Exclamation Mark</th>\n",
       "      <th>Exclamation Mark Count</th>\n",
       "      <th>Ellipsis Occurrence</th>\n",
       "      <th>Hashtag Presence</th>\n",
       "      <th>Text Length</th>\n",
       "      <th>URL Count</th>\n",
       "      <th>Quotes</th>\n",
       "    </tr>\n",
       "  </thead>\n",
       "  <tbody>\n",
       "    <tr>\n",
       "      <th>0</th>\n",
       "      <td>En el fondo lo que les jode es nuestra liberta...</td>\n",
       "      <td>si</td>\n",
       "      <td>0</td>\n",
       "      <td>En el fondo lo que les jode es nuestra liberta...</td>\n",
       "      <td>False</td>\n",
       "      <td>0</td>\n",
       "      <td>False</td>\n",
       "      <td>False</td>\n",
       "      <td>0.114943</td>\n",
       "      <td>False</td>\n",
       "      <td>0</td>\n",
       "      <td>False</td>\n",
       "      <td>True</td>\n",
       "      <td>47</td>\n",
       "      <td>0</td>\n",
       "      <td>False</td>\n",
       "    </tr>\n",
       "    <tr>\n",
       "      <th>1</th>\n",
       "      <td>holla! me gustaría q ayuden a esta junta d fir...</td>\n",
       "      <td>si</td>\n",
       "      <td>0</td>\n",
       "      <td>holla! me gustaría q ayuden a esta junta d fir...</td>\n",
       "      <td>False</td>\n",
       "      <td>0</td>\n",
       "      <td>False</td>\n",
       "      <td>False</td>\n",
       "      <td>0.076577</td>\n",
       "      <td>True</td>\n",
       "      <td>1</td>\n",
       "      <td>False</td>\n",
       "      <td>True</td>\n",
       "      <td>145</td>\n",
       "      <td>1</td>\n",
       "      <td>False</td>\n",
       "    </tr>\n",
       "    <tr>\n",
       "      <th>2</th>\n",
       "      <td>Porque somos dueñas de nuestrxs cuerpas #NoVot...</td>\n",
       "      <td>si</td>\n",
       "      <td>0</td>\n",
       "      <td>Porque somos dueñas de nuestrxs cuerpas #NoVot...</td>\n",
       "      <td>False</td>\n",
       "      <td>0</td>\n",
       "      <td>False</td>\n",
       "      <td>False</td>\n",
       "      <td>0.093750</td>\n",
       "      <td>False</td>\n",
       "      <td>0</td>\n",
       "      <td>False</td>\n",
       "      <td>True</td>\n",
       "      <td>39</td>\n",
       "      <td>0</td>\n",
       "      <td>False</td>\n",
       "    </tr>\n",
       "    <tr>\n",
       "      <th>3</th>\n",
       "      <td>#NoVotenContraLasMujeres estoy tan a la mitad ...</td>\n",
       "      <td>si</td>\n",
       "      <td>0</td>\n",
       "      <td>#NoVotenContraLasMujeres estoy tan a la mitad ...</td>\n",
       "      <td>False</td>\n",
       "      <td>0</td>\n",
       "      <td>False</td>\n",
       "      <td>False</td>\n",
       "      <td>0.029412</td>\n",
       "      <td>True</td>\n",
       "      <td>4</td>\n",
       "      <td>False</td>\n",
       "      <td>True</td>\n",
       "      <td>145</td>\n",
       "      <td>0</td>\n",
       "      <td>False</td>\n",
       "    </tr>\n",
       "    <tr>\n",
       "      <th>4</th>\n",
       "      <td>@MatiasRodrigTDF @LuzScarpati Que los @Diputad...</td>\n",
       "      <td>si</td>\n",
       "      <td>0</td>\n",
       "      <td>Que los   #NoVotenContraLasMujeres #QueSeaLey</td>\n",
       "      <td>False</td>\n",
       "      <td>0</td>\n",
       "      <td>False</td>\n",
       "      <td>False</td>\n",
       "      <td>0.218391</td>\n",
       "      <td>False</td>\n",
       "      <td>0</td>\n",
       "      <td>False</td>\n",
       "      <td>True</td>\n",
       "      <td>7</td>\n",
       "      <td>0</td>\n",
       "      <td>False</td>\n",
       "    </tr>\n",
       "    <tr>\n",
       "      <th>...</th>\n",
       "      <td>...</td>\n",
       "      <td>...</td>\n",
       "      <td>...</td>\n",
       "      <td>...</td>\n",
       "      <td>...</td>\n",
       "      <td>...</td>\n",
       "      <td>...</td>\n",
       "      <td>...</td>\n",
       "      <td>...</td>\n",
       "      <td>...</td>\n",
       "      <td>...</td>\n",
       "      <td>...</td>\n",
       "      <td>...</td>\n",
       "      <td>...</td>\n",
       "      <td>...</td>\n",
       "      <td>...</td>\n",
       "    </tr>\n",
       "    <tr>\n",
       "      <th>392953</th>\n",
       "      <td>Exacto.  #NoAlAborto #SiALaVida #SalvemosLas2V...</td>\n",
       "      <td>no</td>\n",
       "      <td>1</td>\n",
       "      <td>Exacto.  #NoAlAborto #SiALaVida #SalvemosLas2V...</td>\n",
       "      <td>False</td>\n",
       "      <td>0</td>\n",
       "      <td>False</td>\n",
       "      <td>False</td>\n",
       "      <td>0.188976</td>\n",
       "      <td>False</td>\n",
       "      <td>0</td>\n",
       "      <td>False</td>\n",
       "      <td>True</td>\n",
       "      <td>7</td>\n",
       "      <td>1</td>\n",
       "      <td>False</td>\n",
       "    </tr>\n",
       "    <tr>\n",
       "      <th>392955</th>\n",
       "      <td>@JMKlappenbach Tal cual. #SalvemosLas2Vidas</td>\n",
       "      <td>no</td>\n",
       "      <td>1</td>\n",
       "      <td>Tal cual. #SalvemosLas2Vidas</td>\n",
       "      <td>False</td>\n",
       "      <td>0</td>\n",
       "      <td>False</td>\n",
       "      <td>False</td>\n",
       "      <td>0.162791</td>\n",
       "      <td>False</td>\n",
       "      <td>0</td>\n",
       "      <td>False</td>\n",
       "      <td>True</td>\n",
       "      <td>9</td>\n",
       "      <td>0</td>\n",
       "      <td>False</td>\n",
       "    </tr>\n",
       "    <tr>\n",
       "      <th>392956</th>\n",
       "      <td>@clarincom Y una vida terminada #NoAlAborto</td>\n",
       "      <td>no</td>\n",
       "      <td>1</td>\n",
       "      <td>Y una vida terminada #NoAlAborto</td>\n",
       "      <td>False</td>\n",
       "      <td>0</td>\n",
       "      <td>False</td>\n",
       "      <td>False</td>\n",
       "      <td>0.093023</td>\n",
       "      <td>False</td>\n",
       "      <td>0</td>\n",
       "      <td>False</td>\n",
       "      <td>True</td>\n",
       "      <td>20</td>\n",
       "      <td>0</td>\n",
       "      <td>False</td>\n",
       "    </tr>\n",
       "    <tr>\n",
       "      <th>392959</th>\n",
       "      <td>Ojalá los médicos se organicen y marchen para ...</td>\n",
       "      <td>no</td>\n",
       "      <td>0</td>\n",
       "      <td>Ojalá los médicos se organicen y marchen para ...</td>\n",
       "      <td>False</td>\n",
       "      <td>0</td>\n",
       "      <td>False</td>\n",
       "      <td>False</td>\n",
       "      <td>0.046875</td>\n",
       "      <td>False</td>\n",
       "      <td>0</td>\n",
       "      <td>False</td>\n",
       "      <td>True</td>\n",
       "      <td>116</td>\n",
       "      <td>0</td>\n",
       "      <td>False</td>\n",
       "    </tr>\n",
       "    <tr>\n",
       "      <th>392961</th>\n",
       "      <td>Debe estar senil ya pobre. Avísenle que el bla...</td>\n",
       "      <td>no</td>\n",
       "      <td>1</td>\n",
       "      <td>Debe estar senil ya pobre. Avísenle que el bla...</td>\n",
       "      <td>False</td>\n",
       "      <td>0</td>\n",
       "      <td>False</td>\n",
       "      <td>False</td>\n",
       "      <td>0.109848</td>\n",
       "      <td>False</td>\n",
       "      <td>0</td>\n",
       "      <td>False</td>\n",
       "      <td>True</td>\n",
       "      <td>97</td>\n",
       "      <td>1</td>\n",
       "      <td>False</td>\n",
       "    </tr>\n",
       "  </tbody>\n",
       "</table>\n",
       "<p>169639 rows × 16 columns</p>\n",
       "</div>"
      ],
      "text/plain": [
       "                                                full_text posicion  topico  \\\n",
       "0       En el fondo lo que les jode es nuestra liberta...       si       0   \n",
       "1       holla! me gustaría q ayuden a esta junta d fir...       si       0   \n",
       "2       Porque somos dueñas de nuestrxs cuerpas #NoVot...       si       0   \n",
       "3       #NoVotenContraLasMujeres estoy tan a la mitad ...       si       0   \n",
       "4       @MatiasRodrigTDF @LuzScarpati Que los @Diputad...       si       0   \n",
       "...                                                   ...      ...     ...   \n",
       "392953  Exacto.  #NoAlAborto #SiALaVida #SalvemosLas2V...       no       1   \n",
       "392955        @JMKlappenbach Tal cual. #SalvemosLas2Vidas       no       1   \n",
       "392956        @clarincom Y una vida terminada #NoAlAborto       no       1   \n",
       "392959  Ojalá los médicos se organicen y marchen para ...       no       0   \n",
       "392961  Debe estar senil ya pobre. Avísenle que el bla...       no       1   \n",
       "\n",
       "                                        full_text_cleaned  Question Mark  \\\n",
       "0       En el fondo lo que les jode es nuestra liberta...          False   \n",
       "1       holla! me gustaría q ayuden a esta junta d fir...          False   \n",
       "2       Porque somos dueñas de nuestrxs cuerpas #NoVot...          False   \n",
       "3       #NoVotenContraLasMujeres estoy tan a la mitad ...          False   \n",
       "4           Que los   #NoVotenContraLasMujeres #QueSeaLey          False   \n",
       "...                                                   ...            ...   \n",
       "392953  Exacto.  #NoAlAborto #SiALaVida #SalvemosLas2V...          False   \n",
       "392955                       Tal cual. #SalvemosLas2Vidas          False   \n",
       "392956                   Y una vida terminada #NoAlAborto          False   \n",
       "392959  Ojalá los médicos se organicen y marchen para ...          False   \n",
       "392961  Debe estar senil ya pobre. Avísenle que el bla...          False   \n",
       "\n",
       "        Question Mark Count  Starts with Question Mark  Ends with Mark Count  \\\n",
       "0                         0                      False                 False   \n",
       "1                         0                      False                 False   \n",
       "2                         0                      False                 False   \n",
       "3                         0                      False                 False   \n",
       "4                         0                      False                 False   \n",
       "...                     ...                        ...                   ...   \n",
       "392953                    0                      False                 False   \n",
       "392955                    0                      False                 False   \n",
       "392956                    0                      False                 False   \n",
       "392959                    0                      False                 False   \n",
       "392961                    0                      False                 False   \n",
       "\n",
       "        Upper Ratio  Exclamation Mark  Exclamation Mark Count  \\\n",
       "0          0.114943             False                       0   \n",
       "1          0.076577              True                       1   \n",
       "2          0.093750             False                       0   \n",
       "3          0.029412              True                       4   \n",
       "4          0.218391             False                       0   \n",
       "...             ...               ...                     ...   \n",
       "392953     0.188976             False                       0   \n",
       "392955     0.162791             False                       0   \n",
       "392956     0.093023             False                       0   \n",
       "392959     0.046875             False                       0   \n",
       "392961     0.109848             False                       0   \n",
       "\n",
       "        Ellipsis Occurrence  Hashtag Presence  Text Length  URL Count  Quotes  \n",
       "0                     False              True           47          0   False  \n",
       "1                     False              True          145          1   False  \n",
       "2                     False              True           39          0   False  \n",
       "3                     False              True          145          0   False  \n",
       "4                     False              True            7          0   False  \n",
       "...                     ...               ...          ...        ...     ...  \n",
       "392953                False              True            7          1   False  \n",
       "392955                False              True            9          0   False  \n",
       "392956                False              True           20          0   False  \n",
       "392959                False              True          116          0   False  \n",
       "392961                False              True           97          1   False  \n",
       "\n",
       "[169639 rows x 16 columns]"
      ]
     },
     "execution_count": 9,
     "metadata": {},
     "output_type": "execute_result"
    }
   ],
   "source": [
    "# Filtrar comunidades_filtradas usando los índices sin duplicados\n",
    "lda_filtradas_filtrada = lda_filtradas.loc[indices_sin_duplicados]\n",
    "\n",
    "lda_filtradas_filtrada"
   ]
  },
  {
   "cell_type": "code",
   "execution_count": 10,
   "metadata": {},
   "outputs": [
    {
     "data": {
      "text/plain": [
       "topico\n",
       "0    111956\n",
       "1     57683\n",
       "Name: count, dtype: int64"
      ]
     },
     "execution_count": 10,
     "metadata": {},
     "output_type": "execute_result"
    }
   ],
   "source": [
    "lda_filtradas_filtrada['topico'].value_counts()"
   ]
  },
  {
   "cell_type": "code",
   "execution_count": 11,
   "metadata": {},
   "outputs": [],
   "source": [
    "lda_caracteristicas=lda_filtradas_filtrada.drop([ 'full_text', 'posicion', 'full_text_cleaned'], axis=1)"
   ]
  },
  {
   "cell_type": "code",
   "execution_count": 12,
   "metadata": {},
   "outputs": [],
   "source": [
    "# Renombrar la columna\n",
    "lda_caracteristicas.rename(columns={'topico': 'postura'}, inplace=True)"
   ]
  },
  {
   "cell_type": "code",
   "execution_count": 13,
   "metadata": {},
   "outputs": [
    {
     "data": {
      "text/plain": [
       "Index(['postura', 'Question Mark', 'Question Mark Count',\n",
       "       'Starts with Question Mark', 'Ends with Mark Count', 'Upper Ratio',\n",
       "       'Exclamation Mark', 'Exclamation Mark Count', 'Ellipsis Occurrence',\n",
       "       'Hashtag Presence', 'Text Length', 'URL Count', 'Quotes'],\n",
       "      dtype='object')"
      ]
     },
     "execution_count": 13,
     "metadata": {},
     "output_type": "execute_result"
    }
   ],
   "source": [
    "lda_caracteristicas.columns"
   ]
  },
  {
   "cell_type": "code",
   "execution_count": 14,
   "metadata": {},
   "outputs": [],
   "source": [
    "\n",
    "lda_caracteristicas.to_csv('G:/Unidades compartidas/Rocío doctorado/Proyecto NLP/Datos/LDA_caracteristicas_baseline.csv', index=False)"
   ]
  },
  {
   "cell_type": "markdown",
   "metadata": {},
   "source": [
    "## Obtencion de unigramas"
   ]
  },
  {
   "cell_type": "markdown",
   "metadata": {},
   "source": [
    "Preprocesamiento de los textos para utilizarlos como entrada en los modelos de aprendizaje automático"
   ]
  },
  {
   "cell_type": "code",
   "execution_count": 24,
   "metadata": {},
   "outputs": [
    {
     "name": "stderr",
     "output_type": "stream",
     "text": [
      "[nltk_data] Downloading package stopwords to\n",
      "[nltk_data]     C:\\Users\\Usuario\\AppData\\Roaming\\nltk_data...\n",
      "[nltk_data]   Package stopwords is already up-to-date!\n"
     ]
    }
   ],
   "source": [
    "# Asegúrate de tener el paquete de stopwords en español\n",
    "nltk.download('stopwords')\n",
    "df_preproces=pd.DataFrame()\n",
    "# Inicializar el stemmer\n",
    "stemmer = SnowballStemmer('spanish')\n",
    "stop_words = set(stopwords.words('spanish'))\n",
    "\n",
    "def clean_tweet(tweet):\n",
    "    # Eliminar 'RT' al inicio del texto (opcional, si quieres eliminar retweets)\n",
    "    # tweet = re.sub(r'^RT\\s+', '', tweet)\n",
    "    \n",
    "    # Eliminar menciones (@usuario), URLs y caracteres no alfabéticos\n",
    "    tweet = re.sub(r'@\\w+|http\\S+', '', tweet)  # Eliminar menciones y URLs\n",
    "    \n",
    "    # Reemplazar '#' con una cadena vacía para conservar las palabras de los hashtags\n",
    "    tweet = re.sub(r'#(\\w+)', r'\\1', tweet)  # Eliminar solo el símbolo '#'\n",
    "    \n",
    "    # Tokenizar el tweet y aplicar el stemmer\n",
    "    tokens = tweet.split()\n",
    "    tokens = [stemmer.stem(word) for word in tokens if word.isalpha() and word not in stop_words]\n",
    "    \n",
    "    return ' '.join(tokens)\n",
    "\n",
    "# Suponiendo que tienes un DataFrame 'df' con una columna 'full_text_cleaned' y una columna 'etiqueta' (la clase)\n",
    "df_preproces['cleaned_tweet'] = lda_filtradas_filtrada['full_text_cleaned'].apply(clean_tweet)\n"
   ]
  },
  {
   "cell_type": "code",
   "execution_count": 25,
   "metadata": {},
   "outputs": [
    {
     "data": {
      "text/plain": [
       "0         en fond jod libert novotencontralasmujer abort...\n",
       "1         gust q ayud junt d firm abort segur graci apru...\n",
       "2           porqu dueñ nuestrxs cuerp novotencontralasmujer\n",
       "3         novotencontralasmujer tan mit ten postur defin...\n",
       "4                       que novotencontralasmujer quesealey\n",
       "                                ...                        \n",
       "392953    noalabort sialav cuidemoslasdosv nadiemen arge...\n",
       "392955                                                  tal\n",
       "392956                               y vid termin noalabort\n",
       "392959    ojal medic organic march grit cuent los vam mi...\n",
       "392961    deb senil avisenl blanc verd noalabort noalabo...\n",
       "Name: cleaned_tweet, Length: 169639, dtype: object"
      ]
     },
     "execution_count": 25,
     "metadata": {},
     "output_type": "execute_result"
    }
   ],
   "source": [
    "df_preproces['cleaned_tweet']"
   ]
  },
  {
   "cell_type": "code",
   "execution_count": 26,
   "metadata": {},
   "outputs": [],
   "source": [
    "df_preproces['cleaned_tweet']\n",
    "df_preproces['topico']=lda_filtradas_filtrada['topico']"
   ]
  },
  {
   "cell_type": "code",
   "execution_count": 27,
   "metadata": {},
   "outputs": [
    {
     "data": {
      "text/plain": [
       "Index(['cleaned_tweet', 'topico'], dtype='object')"
      ]
     },
     "execution_count": 27,
     "metadata": {},
     "output_type": "execute_result"
    }
   ],
   "source": [
    "df_preproces.columns"
   ]
  },
  {
   "cell_type": "code",
   "execution_count": 28,
   "metadata": {},
   "outputs": [
    {
     "data": {
      "text/plain": [
       "topico\n",
       "0    111956\n",
       "1     57683\n",
       "Name: count, dtype: int64"
      ]
     },
     "execution_count": 28,
     "metadata": {},
     "output_type": "execute_result"
    }
   ],
   "source": [
    "df_preproces['topico'].value_counts()"
   ]
  },
  {
   "cell_type": "markdown",
   "metadata": {},
   "source": [
    "Modelo de clasificación: el texto se convierte en vectores numéricos usando TF-IDF, y luego se entrena una regresión logística para predecir a qué clase pertenece cada tweet"
   ]
  },
  {
   "cell_type": "code",
   "execution_count": 29,
   "metadata": {},
   "outputs": [
    {
     "name": "stderr",
     "output_type": "stream",
     "text": [
      "c:\\Users\\Usuario\\AppData\\Local\\Programs\\Python\\Python312\\Lib\\site-packages\\sklearn\\linear_model\\_logistic.py:1256: FutureWarning: 'multi_class' was deprecated in version 1.5 and will be removed in 1.7. Use OneVsRestClassifier(LogisticRegression(..)) instead. Leave it to its default value to avoid this warning.\n",
      "  warnings.warn(\n"
     ]
    },
    {
     "name": "stdout",
     "output_type": "stream",
     "text": [
      "Accuracy en el conjunto de prueba: 0.91\n",
      "Accuracy en el conjunto de entrenamiento: 0.92\n"
     ]
    }
   ],
   "source": [
    "from sklearn.feature_extraction.text import TfidfVectorizer\n",
    "from sklearn.decomposition import TruncatedSVD\n",
    "from sklearn.linear_model import LogisticRegression\n",
    "from sklearn.model_selection import train_test_split\n",
    "from sklearn.metrics import confusion_matrix, accuracy_score\n",
    "import pandas as pd\n",
    "import numpy as np\n",
    "from sklearn.feature_selection import chi2\n",
    "\n",
    "\n",
    "# Separar las características y las etiquetas\n",
    "X = df_preproces['cleaned_tweet']\n",
    "y = df_preproces['topico']  # Asegúrate de que esta columna contiene las clases\n",
    "\n",
    "# Dividir el dataset en conjunto de entrenamiento y de prueba\n",
    "X_train, X_test, y_train, y_test = train_test_split(X, y, test_size=0.2, random_state=42)\n",
    "\n",
    "# Crear el pipeline para vectorización y regresión logística\n",
    "tfidf_vectorizer = TfidfVectorizer()\n",
    "X_train_vectorized = tfidf_vectorizer.fit_transform(X_train)\n",
    "X_test_vectorized = tfidf_vectorizer.transform(X_test)\n",
    "\n",
    "# Entrenar el modelo de regresión logística\n",
    "logistic_model = LogisticRegression(multi_class='ovr', max_iter=1000)\n",
    "logistic_model.fit(X_train_vectorized, y_train)\n",
    "\n",
    "# Evaluar el modelo en el conjunto de prueba\n",
    "accuracy_test = logistic_model.score(X_test_vectorized, y_test)\n",
    "print(f'Accuracy en el conjunto de prueba: {accuracy_test:.2f}')\n",
    "\n",
    "# Evaluar el modelo en el conjunto de entrenamiento\n",
    "accuracy_train = logistic_model.score(X_train_vectorized, y_train)\n",
    "print(f'Accuracy en el conjunto de entrenamiento: {accuracy_train:.2f}')\n",
    "\n",
    "\n"
   ]
  },
  {
   "cell_type": "markdown",
   "metadata": {},
   "source": [
    "# Realizamos un análisis Chi-cuadrado para evaluar la relación entre los unigrams (palabras) y la variable objetivo en un conjunto de datos.  Filtramoa los unigrams con p-valores significativos (menores que 0.05) para identificar los unigramAs más relevantes."
   ]
  },
  {
   "cell_type": "code",
   "execution_count": 30,
   "metadata": {},
   "outputs": [
    {
     "name": "stdout",
     "output_type": "stream",
     "text": [
      "\n",
      "Top Unigramas por Chi-cuadrado:\n",
      "                    unigram         chi2        p_value\n",
      "19574  noalabortoenargentin  4059.262232   0.000000e+00\n",
      "388            abortolegaly  3290.519918   0.000000e+00\n",
      "2404        argentinaesprov  3131.600297   0.000000e+00\n",
      "29270                   vid  1691.817537   0.000000e+00\n",
      "23637             quesealey  1409.461111  1.847203e-308\n",
      "290             abortolegal  1365.714041  5.927981e-299\n",
      "475           abortoseraley   612.546495  3.125238e-135\n",
      "478      abortosesionhistor   566.783499  2.811872e-125\n",
      "7466                 defend   422.274777   7.804002e-94\n",
      "141                   abort   393.126877   1.726470e-87\n"
     ]
    }
   ],
   "source": [
    "# Calcular Chi-cuadrado\n",
    "chi2_values, p_values = chi2(X_train_vectorized, y_train)\n",
    "vocabulario = tfidf_vectorizer.get_feature_names_out()\n",
    "\n",
    "# Crear un DataFrame para los resultados de Chi-cuadrado\n",
    "chi2_results = pd.DataFrame({\n",
    "    'unigram': vocabulario,\n",
    "    'chi2': chi2_values,\n",
    "    'p_value': p_values\n",
    "})\n",
    "\n",
    "# Filtrar unigramas con p-valor significativo (ejemplo: p < 0.05)\n",
    "chi2_results = chi2_results[chi2_results['p_value'] < 0.05]\n",
    "\n",
    "# Ordenar por valor Chi-cuadrado\n",
    "chi2_results = chi2_results.sort_values(by='chi2', ascending=False)\n",
    "\n",
    "# Imprimir los resultados de Chi-cuadrado\n",
    "print(\"\\nTop Unigramas por Chi-cuadrado:\")\n",
    "print(chi2_results.head(10))"
   ]
  },
  {
   "cell_type": "markdown",
   "metadata": {},
   "source": [
    "# Agregamos los unigramas más significativos como columnas"
   ]
  },
  {
   "cell_type": "code",
   "execution_count": 31,
   "metadata": {},
   "outputs": [
    {
     "name": "stdout",
     "output_type": "stream",
     "text": [
      "\n",
      "DataFrame Original con Unigramas de Mayor Peso:\n"
     ]
    },
    {
     "data": {
      "text/plain": [
       "Index(['cleaned_tweet', 'topico', 'noalabortoenargentin', 'abortolegaly',\n",
       "       'argentinaesprov', 'vid', 'quesealey', 'abortolegal', 'abortoseraley',\n",
       "       'abortosesionhistor',\n",
       "       ...\n",
       "       'laspibasyaeleg', 'suced', 'discapac', 'afuer', 'ellos', 'profund',\n",
       "       'mate', 'ferreyr', 'triunf', 'abortoesmat'],\n",
       "      dtype='object', length=891)"
      ]
     },
     "execution_count": 31,
     "metadata": {},
     "output_type": "execute_result"
    }
   ],
   "source": [
    "\n",
    "# Extraer solo las palabras de top_20_features\n",
    "top_features_words_chi = chi2_results['unigram'].tolist()\n",
    "# Crear un nuevo vectorizador usando solo las palabras de top_20_features\n",
    "custom_vectorizer = TfidfVectorizer(vocabulary=top_features_words_chi)\n",
    "\n",
    "# Ajustar y transformar el DataFrame original\n",
    "X_custom = custom_vectorizer.fit_transform(df_preproces['cleaned_tweet'])\n",
    "\n",
    "# Convertir la matriz resultante a un DataFrame\n",
    "X_custom_df = pd.DataFrame(X_custom.toarray(), columns=custom_vectorizer.get_feature_names_out(), index=df_preproces.index)\n",
    "\n",
    "# Agregar las nuevas características al DataFrame original\n",
    "df_unigramas_chi = pd.concat([df_preproces, X_custom_df], axis=1)\n",
    "\n",
    "# Mostrar el DataFrame original con las nuevas columnas\n",
    "print(\"\\nDataFrame Original con Unigramas de Mayor Peso:\")\n",
    "df_unigramas_chi.columns"
   ]
  },
  {
   "cell_type": "code",
   "execution_count": 32,
   "metadata": {},
   "outputs": [
    {
     "data": {
      "text/plain": [
       "Index(['postura', 'noalabortoenargentin', 'abortolegaly', 'argentinaesprov',\n",
       "       'vid', 'quesealey', 'abortolegal', 'abortoseraley',\n",
       "       'abortosesionhistor', 'defend',\n",
       "       ...\n",
       "       'laspibasyaeleg', 'suced', 'discapac', 'afuer', 'ellos', 'profund',\n",
       "       'mate', 'ferreyr', 'triunf', 'abortoesmat'],\n",
       "      dtype='object', length=890)"
      ]
     },
     "execution_count": 32,
     "metadata": {},
     "output_type": "execute_result"
    }
   ],
   "source": [
    "LDA_unigramas_chi=df_unigramas_chi.drop(['cleaned_tweet'], axis=1)\n",
    "# Renombrar la columna\n",
    "LDA_unigramas_chi.rename(columns={'topico': 'postura'}, inplace=True)\n",
    "LDA_unigramas_chi.columns"
   ]
  },
  {
   "cell_type": "code",
   "execution_count": 33,
   "metadata": {},
   "outputs": [],
   "source": [
    "LDA_unigramas_chi.to_csv('G:/Unidades compartidas/Rocío doctorado/Proyecto NLP/Datos/LDA_unigramas_chi.csv', index=False)"
   ]
  },
  {
   "cell_type": "markdown",
   "metadata": {},
   "source": [
    "# Extraemos los unigramas correspondienets a los  coeficientes que tuvieron mayor peso en la regresion logística"
   ]
  },
  {
   "cell_type": "code",
   "execution_count": 34,
   "metadata": {},
   "outputs": [],
   "source": [
    "# Extraer los coeficientes del modelo y convertirlos en valores absolutos\n",
    "coefficients = np.abs(logistic_model.coef_).flatten()\n",
    "\n",
    "# Crear un DataFrame con los términos y sus coeficientes absolutos\n",
    "coef_df = pd.DataFrame({\n",
    "    'unigram': vocabulario,\n",
    "    'AbsCoefficient': coefficients\n",
    "})\n"
   ]
  },
  {
   "cell_type": "code",
   "execution_count": 35,
   "metadata": {},
   "outputs": [
    {
     "data": {
      "text/html": [
       "<div>\n",
       "<style scoped>\n",
       "    .dataframe tbody tr th:only-of-type {\n",
       "        vertical-align: middle;\n",
       "    }\n",
       "\n",
       "    .dataframe tbody tr th {\n",
       "        vertical-align: top;\n",
       "    }\n",
       "\n",
       "    .dataframe thead th {\n",
       "        text-align: right;\n",
       "    }\n",
       "</style>\n",
       "<table border=\"1\" class=\"dataframe\">\n",
       "  <thead>\n",
       "    <tr style=\"text-align: right;\">\n",
       "      <th></th>\n",
       "      <th>unigram</th>\n",
       "      <th>AbsCoefficient</th>\n",
       "    </tr>\n",
       "  </thead>\n",
       "  <tbody>\n",
       "    <tr>\n",
       "      <th>0</th>\n",
       "      <td>aa</td>\n",
       "      <td>0.046006</td>\n",
       "    </tr>\n",
       "    <tr>\n",
       "      <th>1</th>\n",
       "      <td>aaa</td>\n",
       "      <td>0.046791</td>\n",
       "    </tr>\n",
       "    <tr>\n",
       "      <th>2</th>\n",
       "      <td>aaaa</td>\n",
       "      <td>0.223284</td>\n",
       "    </tr>\n",
       "    <tr>\n",
       "      <th>3</th>\n",
       "      <td>aaaaa</td>\n",
       "      <td>0.103398</td>\n",
       "    </tr>\n",
       "    <tr>\n",
       "      <th>4</th>\n",
       "      <td>aaaaaa</td>\n",
       "      <td>0.106258</td>\n",
       "    </tr>\n",
       "    <tr>\n",
       "      <th>...</th>\n",
       "      <td>...</td>\n",
       "      <td>...</td>\n",
       "    </tr>\n",
       "    <tr>\n",
       "      <th>30309</th>\n",
       "      <td>𝗹𝗮𝗽𝘂𝗿𝗮𝘃𝗲𝗿𝗱𝗮𝗱</td>\n",
       "      <td>0.131908</td>\n",
       "    </tr>\n",
       "    <tr>\n",
       "      <th>30310</th>\n",
       "      <td>𝗺𝗮𝗿𝗰𝗵𝗮</td>\n",
       "      <td>0.105406</td>\n",
       "    </tr>\n",
       "    <tr>\n",
       "      <th>30311</th>\n",
       "      <td>𝗺𝗶𝗹𝗲𝘀</td>\n",
       "      <td>0.105406</td>\n",
       "    </tr>\n",
       "    <tr>\n",
       "      <th>30312</th>\n",
       "      <td>𝘁𝘂𝗰𝘂𝗺𝗮𝗻𝗼𝘀</td>\n",
       "      <td>0.105406</td>\n",
       "    </tr>\n",
       "    <tr>\n",
       "      <th>30313</th>\n",
       "      <td>𝘂𝗻𝗮</td>\n",
       "      <td>0.105406</td>\n",
       "    </tr>\n",
       "  </tbody>\n",
       "</table>\n",
       "<p>30314 rows × 2 columns</p>\n",
       "</div>"
      ],
      "text/plain": [
       "            unigram  AbsCoefficient\n",
       "0                aa        0.046006\n",
       "1               aaa        0.046791\n",
       "2              aaaa        0.223284\n",
       "3             aaaaa        0.103398\n",
       "4            aaaaaa        0.106258\n",
       "...             ...             ...\n",
       "30309  𝗹𝗮𝗽𝘂𝗿𝗮𝘃𝗲𝗿𝗱𝗮𝗱        0.131908\n",
       "30310        𝗺𝗮𝗿𝗰𝗵𝗮        0.105406\n",
       "30311         𝗺𝗶𝗹𝗲𝘀        0.105406\n",
       "30312     𝘁𝘂𝗰𝘂𝗺𝗮𝗻𝗼𝘀        0.105406\n",
       "30313           𝘂𝗻𝗮        0.105406\n",
       "\n",
       "[30314 rows x 2 columns]"
      ]
     },
     "execution_count": 35,
     "metadata": {},
     "output_type": "execute_result"
    }
   ],
   "source": [
    "coef_df"
   ]
  },
  {
   "cell_type": "code",
   "execution_count": 36,
   "metadata": {},
   "outputs": [
    {
     "data": {
      "image/png": "[encoded data removed]",
      "text/plain": [
       "<Figure size 1000x600 with 1 Axes>"
      ]
     },
     "metadata": {},
     "output_type": "display_data"
    }
   ],
   "source": [
    "import matplotlib.pyplot as plt\n",
    "\n",
    "plt.figure(figsize=(10, 6))\n",
    "plt.hist(coefficients, bins=30, color='skyblue', edgecolor='black')\n",
    "plt.xlabel('Peso')\n",
    "plt.ylabel('Frecuencia')\n",
    "plt.title('Distribución de Pesos de Unigramas')\n",
    "plt.show()\n"
   ]
  },
  {
   "cell_type": "markdown",
   "metadata": {},
   "source": [
    "# Filtramos los unigramas cuyos coeficientes en la regresión logística sean mayores o iguales al percentil 97.5, en términos absolutos."
   ]
  },
  {
   "cell_type": "code",
   "execution_count": 37,
   "metadata": {},
   "outputs": [
    {
     "name": "stdout",
     "output_type": "stream",
     "text": [
      "        unigram  AbsCoefficient\n",
      "70      abandon        0.919220\n",
      "92        aberr        1.127249\n",
      "94       abiert        1.126154\n",
      "141       abort        8.068352\n",
      "162    abortari        1.339328\n",
      "...         ...             ...\n",
      "29906       xxi        0.802166\n",
      "29909        ya        0.745893\n",
      "30050   yonopar        1.201162\n",
      "30091     youub        0.897724\n",
      "30102     yovoy        0.820991\n",
      "\n",
      "[758 rows x 2 columns]\n"
     ]
    }
   ],
   "source": [
    "# Calcular el percentil 95 de los valores absolutos de los pesos\n",
    "threshold = np.percentile(np.abs(coefficients), 97.5)\n",
    "threshold\n",
    "# Filtrar unigrams cuyo peso sea mayor que el percentil 95 en valor absoluto\n",
    "significant_unigrams = coef_df[np.abs(coef_df['AbsCoefficient']) >= threshold]\n",
    "print(significant_unigrams)\n"
   ]
  },
  {
   "cell_type": "code",
   "execution_count": 38,
   "metadata": {},
   "outputs": [
    {
     "name": "stdout",
     "output_type": "stream",
     "text": [
      "Las 20 características más importantes:\n",
      "                    unigram  AbsCoefficient\n",
      "388            abortolegaly       40.181416\n",
      "23637             quesealey       20.825348\n",
      "19574  noalabortoenargentin       14.942575\n",
      "2404        argentinaesprov       12.691731\n",
      "13724                   hoy       11.481043\n",
      "478      abortosesionhistor       11.436951\n",
      "29270                   vid       11.398179\n",
      "18933                 mujer        9.788971\n",
      "19566             noalabort        9.274845\n",
      "290             abortolegal        9.093101\n"
     ]
    }
   ],
   "source": [
    "top_features = coef_df.sort_values(by='AbsCoefficient', ascending=False)\n",
    "\n",
    "# Obtener las 10 características con mayor peso\n",
    "top_20_features = top_features.head(758)\n",
    "\n",
    "print(\"Las 20 características más importantes:\")\n",
    "print(top_20_features.head(10))"
   ]
  },
  {
   "cell_type": "markdown",
   "metadata": {},
   "source": [
    "# Agregamos los unigramas como columnas para luego usarlos en modelos de clasificación"
   ]
  },
  {
   "cell_type": "code",
   "execution_count": 39,
   "metadata": {},
   "outputs": [
    {
     "name": "stdout",
     "output_type": "stream",
     "text": [
      "\n",
      "DataFrame Original con Unigramas de Mayor Peso:\n"
     ]
    },
    {
     "data": {
      "text/plain": [
       "Index(['cleaned_tweet', 'topico', 'abortolegaly', 'quesealey',\n",
       "       'noalabortoenargentin', 'argentinaesprov', 'hoy', 'abortosesionhistor',\n",
       "       'vid', 'mujer',\n",
       "       ...\n",
       "       'encim', 'machism', 'cac', 'provoc', 'jamas', 'quiz', 'parid', 'arma',\n",
       "       'siqu', 'noalasesinat'],\n",
       "      dtype='object', length=760)"
      ]
     },
     "execution_count": 39,
     "metadata": {},
     "output_type": "execute_result"
    }
   ],
   "source": [
    "unigram_df = pd.DataFrame(top_20_features[['unigram', 'AbsCoefficient']])\n",
    "# Extraer solo las palabras de top_20_features\n",
    "top_features_words = unigram_df['unigram'].tolist()\n",
    "# Crear un nuevo vectorizador usando solo las palabras de top_20_features\n",
    "custom_vectorizer = TfidfVectorizer(vocabulary=top_features_words)\n",
    "\n",
    "# Ajustar y transformar el DataFrame original\n",
    "X_custom = custom_vectorizer.fit_transform(df_preproces['cleaned_tweet'])\n",
    "\n",
    "# Convertir la matriz resultante a un DataFrame\n",
    "X_custom_df = pd.DataFrame(X_custom.toarray(), columns=custom_vectorizer.get_feature_names_out(), index=df_preproces.index)\n",
    "\n",
    "# Agregar las nuevas características al DataFrame original\n",
    "df_unigramas = pd.concat([df_preproces, X_custom_df], axis=1)\n",
    "\n",
    "# Mostrar el DataFrame original con las nuevas columnas\n",
    "print(\"\\nDataFrame Original con Unigramas de Mayor Peso:\")\n",
    "df_unigramas.columns\n"
   ]
  },
  {
   "cell_type": "code",
   "execution_count": 40,
   "metadata": {},
   "outputs": [
    {
     "data": {
      "text/html": [
       "<div>\n",
       "<style scoped>\n",
       "    .dataframe tbody tr th:only-of-type {\n",
       "        vertical-align: middle;\n",
       "    }\n",
       "\n",
       "    .dataframe tbody tr th {\n",
       "        vertical-align: top;\n",
       "    }\n",
       "\n",
       "    .dataframe thead th {\n",
       "        text-align: right;\n",
       "    }\n",
       "</style>\n",
       "<table border=\"1\" class=\"dataframe\">\n",
       "  <thead>\n",
       "    <tr style=\"text-align: right;\">\n",
       "      <th></th>\n",
       "      <th>cleaned_tweet</th>\n",
       "      <th>topico</th>\n",
       "      <th>abortolegaly</th>\n",
       "      <th>quesealey</th>\n",
       "      <th>noalabortoenargentin</th>\n",
       "      <th>argentinaesprov</th>\n",
       "      <th>hoy</th>\n",
       "      <th>abortosesionhistor</th>\n",
       "      <th>vid</th>\n",
       "      <th>mujer</th>\n",
       "      <th>...</th>\n",
       "      <th>encim</th>\n",
       "      <th>machism</th>\n",
       "      <th>cac</th>\n",
       "      <th>provoc</th>\n",
       "      <th>jamas</th>\n",
       "      <th>quiz</th>\n",
       "      <th>parid</th>\n",
       "      <th>arma</th>\n",
       "      <th>siqu</th>\n",
       "      <th>noalasesinat</th>\n",
       "    </tr>\n",
       "  </thead>\n",
       "  <tbody>\n",
       "    <tr>\n",
       "      <th>0</th>\n",
       "      <td>en fond jod libert novotencontralasmujer abort...</td>\n",
       "      <td>0</td>\n",
       "      <td>0.197362</td>\n",
       "      <td>0.000000</td>\n",
       "      <td>0.000000</td>\n",
       "      <td>0.000000</td>\n",
       "      <td>0.0</td>\n",
       "      <td>0.0</td>\n",
       "      <td>0.000000</td>\n",
       "      <td>0.0</td>\n",
       "      <td>...</td>\n",
       "      <td>0.0</td>\n",
       "      <td>0.0</td>\n",
       "      <td>0.0</td>\n",
       "      <td>0.0</td>\n",
       "      <td>0.0</td>\n",
       "      <td>0.0</td>\n",
       "      <td>0.0</td>\n",
       "      <td>0.0</td>\n",
       "      <td>0.0</td>\n",
       "      <td>0.0</td>\n",
       "    </tr>\n",
       "    <tr>\n",
       "      <th>1</th>\n",
       "      <td>gust q ayud junt d firm abort segur graci apru...</td>\n",
       "      <td>0</td>\n",
       "      <td>0.110639</td>\n",
       "      <td>0.000000</td>\n",
       "      <td>0.000000</td>\n",
       "      <td>0.000000</td>\n",
       "      <td>0.0</td>\n",
       "      <td>0.0</td>\n",
       "      <td>0.000000</td>\n",
       "      <td>0.0</td>\n",
       "      <td>...</td>\n",
       "      <td>0.0</td>\n",
       "      <td>0.0</td>\n",
       "      <td>0.0</td>\n",
       "      <td>0.0</td>\n",
       "      <td>0.0</td>\n",
       "      <td>0.0</td>\n",
       "      <td>0.0</td>\n",
       "      <td>0.0</td>\n",
       "      <td>0.0</td>\n",
       "      <td>0.0</td>\n",
       "    </tr>\n",
       "    <tr>\n",
       "      <th>2</th>\n",
       "      <td>porqu dueñ nuestrxs cuerp novotencontralasmujer</td>\n",
       "      <td>0</td>\n",
       "      <td>0.000000</td>\n",
       "      <td>0.000000</td>\n",
       "      <td>0.000000</td>\n",
       "      <td>0.000000</td>\n",
       "      <td>0.0</td>\n",
       "      <td>0.0</td>\n",
       "      <td>0.000000</td>\n",
       "      <td>0.0</td>\n",
       "      <td>...</td>\n",
       "      <td>0.0</td>\n",
       "      <td>0.0</td>\n",
       "      <td>0.0</td>\n",
       "      <td>0.0</td>\n",
       "      <td>0.0</td>\n",
       "      <td>0.0</td>\n",
       "      <td>0.0</td>\n",
       "      <td>0.0</td>\n",
       "      <td>0.0</td>\n",
       "      <td>0.0</td>\n",
       "    </tr>\n",
       "    <tr>\n",
       "      <th>3</th>\n",
       "      <td>novotencontralasmujer tan mit ten postur defin...</td>\n",
       "      <td>0</td>\n",
       "      <td>0.000000</td>\n",
       "      <td>0.000000</td>\n",
       "      <td>0.000000</td>\n",
       "      <td>0.000000</td>\n",
       "      <td>0.0</td>\n",
       "      <td>0.0</td>\n",
       "      <td>0.000000</td>\n",
       "      <td>0.0</td>\n",
       "      <td>...</td>\n",
       "      <td>0.0</td>\n",
       "      <td>0.0</td>\n",
       "      <td>0.0</td>\n",
       "      <td>0.0</td>\n",
       "      <td>0.0</td>\n",
       "      <td>0.0</td>\n",
       "      <td>0.0</td>\n",
       "      <td>0.0</td>\n",
       "      <td>0.0</td>\n",
       "      <td>0.0</td>\n",
       "    </tr>\n",
       "    <tr>\n",
       "      <th>4</th>\n",
       "      <td>que novotencontralasmujer quesealey</td>\n",
       "      <td>0</td>\n",
       "      <td>0.000000</td>\n",
       "      <td>0.574037</td>\n",
       "      <td>0.000000</td>\n",
       "      <td>0.000000</td>\n",
       "      <td>0.0</td>\n",
       "      <td>0.0</td>\n",
       "      <td>0.000000</td>\n",
       "      <td>0.0</td>\n",
       "      <td>...</td>\n",
       "      <td>0.0</td>\n",
       "      <td>0.0</td>\n",
       "      <td>0.0</td>\n",
       "      <td>0.0</td>\n",
       "      <td>0.0</td>\n",
       "      <td>0.0</td>\n",
       "      <td>0.0</td>\n",
       "      <td>0.0</td>\n",
       "      <td>0.0</td>\n",
       "      <td>0.0</td>\n",
       "    </tr>\n",
       "    <tr>\n",
       "      <th>...</th>\n",
       "      <td>...</td>\n",
       "      <td>...</td>\n",
       "      <td>...</td>\n",
       "      <td>...</td>\n",
       "      <td>...</td>\n",
       "      <td>...</td>\n",
       "      <td>...</td>\n",
       "      <td>...</td>\n",
       "      <td>...</td>\n",
       "      <td>...</td>\n",
       "      <td>...</td>\n",
       "      <td>...</td>\n",
       "      <td>...</td>\n",
       "      <td>...</td>\n",
       "      <td>...</td>\n",
       "      <td>...</td>\n",
       "      <td>...</td>\n",
       "      <td>...</td>\n",
       "      <td>...</td>\n",
       "      <td>...</td>\n",
       "      <td>...</td>\n",
       "    </tr>\n",
       "    <tr>\n",
       "      <th>392953</th>\n",
       "      <td>noalabort sialav cuidemoslasdosv nadiemen arge...</td>\n",
       "      <td>1</td>\n",
       "      <td>0.000000</td>\n",
       "      <td>0.000000</td>\n",
       "      <td>0.000000</td>\n",
       "      <td>0.421294</td>\n",
       "      <td>0.0</td>\n",
       "      <td>0.0</td>\n",
       "      <td>0.000000</td>\n",
       "      <td>0.0</td>\n",
       "      <td>...</td>\n",
       "      <td>0.0</td>\n",
       "      <td>0.0</td>\n",
       "      <td>0.0</td>\n",
       "      <td>0.0</td>\n",
       "      <td>0.0</td>\n",
       "      <td>0.0</td>\n",
       "      <td>0.0</td>\n",
       "      <td>0.0</td>\n",
       "      <td>0.0</td>\n",
       "      <td>0.0</td>\n",
       "    </tr>\n",
       "    <tr>\n",
       "      <th>392955</th>\n",
       "      <td>tal</td>\n",
       "      <td>1</td>\n",
       "      <td>0.000000</td>\n",
       "      <td>0.000000</td>\n",
       "      <td>0.000000</td>\n",
       "      <td>0.000000</td>\n",
       "      <td>0.0</td>\n",
       "      <td>0.0</td>\n",
       "      <td>0.000000</td>\n",
       "      <td>0.0</td>\n",
       "      <td>...</td>\n",
       "      <td>0.0</td>\n",
       "      <td>0.0</td>\n",
       "      <td>0.0</td>\n",
       "      <td>0.0</td>\n",
       "      <td>0.0</td>\n",
       "      <td>0.0</td>\n",
       "      <td>0.0</td>\n",
       "      <td>0.0</td>\n",
       "      <td>0.0</td>\n",
       "      <td>0.0</td>\n",
       "    </tr>\n",
       "    <tr>\n",
       "      <th>392956</th>\n",
       "      <td>y vid termin noalabort</td>\n",
       "      <td>1</td>\n",
       "      <td>0.000000</td>\n",
       "      <td>0.000000</td>\n",
       "      <td>0.000000</td>\n",
       "      <td>0.000000</td>\n",
       "      <td>0.0</td>\n",
       "      <td>0.0</td>\n",
       "      <td>0.674679</td>\n",
       "      <td>0.0</td>\n",
       "      <td>...</td>\n",
       "      <td>0.0</td>\n",
       "      <td>0.0</td>\n",
       "      <td>0.0</td>\n",
       "      <td>0.0</td>\n",
       "      <td>0.0</td>\n",
       "      <td>0.0</td>\n",
       "      <td>0.0</td>\n",
       "      <td>0.0</td>\n",
       "      <td>0.0</td>\n",
       "      <td>0.0</td>\n",
       "    </tr>\n",
       "    <tr>\n",
       "      <th>392959</th>\n",
       "      <td>ojal medic organic march grit cuent los vam mi...</td>\n",
       "      <td>0</td>\n",
       "      <td>0.000000</td>\n",
       "      <td>0.000000</td>\n",
       "      <td>0.000000</td>\n",
       "      <td>0.000000</td>\n",
       "      <td>0.0</td>\n",
       "      <td>0.0</td>\n",
       "      <td>0.000000</td>\n",
       "      <td>0.0</td>\n",
       "      <td>...</td>\n",
       "      <td>0.0</td>\n",
       "      <td>0.0</td>\n",
       "      <td>0.0</td>\n",
       "      <td>0.0</td>\n",
       "      <td>0.0</td>\n",
       "      <td>0.0</td>\n",
       "      <td>0.0</td>\n",
       "      <td>0.0</td>\n",
       "      <td>0.0</td>\n",
       "      <td>0.0</td>\n",
       "    </tr>\n",
       "    <tr>\n",
       "      <th>392961</th>\n",
       "      <td>deb senil avisenl blanc verd noalabort noalabo...</td>\n",
       "      <td>1</td>\n",
       "      <td>0.000000</td>\n",
       "      <td>0.000000</td>\n",
       "      <td>0.539555</td>\n",
       "      <td>0.593329</td>\n",
       "      <td>0.0</td>\n",
       "      <td>0.0</td>\n",
       "      <td>0.000000</td>\n",
       "      <td>0.0</td>\n",
       "      <td>...</td>\n",
       "      <td>0.0</td>\n",
       "      <td>0.0</td>\n",
       "      <td>0.0</td>\n",
       "      <td>0.0</td>\n",
       "      <td>0.0</td>\n",
       "      <td>0.0</td>\n",
       "      <td>0.0</td>\n",
       "      <td>0.0</td>\n",
       "      <td>0.0</td>\n",
       "      <td>0.0</td>\n",
       "    </tr>\n",
       "  </tbody>\n",
       "</table>\n",
       "<p>169639 rows × 760 columns</p>\n",
       "</div>"
      ],
      "text/plain": [
       "                                            cleaned_tweet  topico  \\\n",
       "0       en fond jod libert novotencontralasmujer abort...       0   \n",
       "1       gust q ayud junt d firm abort segur graci apru...       0   \n",
       "2         porqu dueñ nuestrxs cuerp novotencontralasmujer       0   \n",
       "3       novotencontralasmujer tan mit ten postur defin...       0   \n",
       "4                     que novotencontralasmujer quesealey       0   \n",
       "...                                                   ...     ...   \n",
       "392953  noalabort sialav cuidemoslasdosv nadiemen arge...       1   \n",
       "392955                                                tal       1   \n",
       "392956                             y vid termin noalabort       1   \n",
       "392959  ojal medic organic march grit cuent los vam mi...       0   \n",
       "392961  deb senil avisenl blanc verd noalabort noalabo...       1   \n",
       "\n",
       "        abortolegaly  quesealey  noalabortoenargentin  argentinaesprov  hoy  \\\n",
       "0           0.197362   0.000000              0.000000         0.000000  0.0   \n",
       "1           0.110639   0.000000              0.000000         0.000000  0.0   \n",
       "2           0.000000   0.000000              0.000000         0.000000  0.0   \n",
       "3           0.000000   0.000000              0.000000         0.000000  0.0   \n",
       "4           0.000000   0.574037              0.000000         0.000000  0.0   \n",
       "...              ...        ...                   ...              ...  ...   \n",
       "392953      0.000000   0.000000              0.000000         0.421294  0.0   \n",
       "392955      0.000000   0.000000              0.000000         0.000000  0.0   \n",
       "392956      0.000000   0.000000              0.000000         0.000000  0.0   \n",
       "392959      0.000000   0.000000              0.000000         0.000000  0.0   \n",
       "392961      0.000000   0.000000              0.539555         0.593329  0.0   \n",
       "\n",
       "        abortosesionhistor       vid  mujer  ...  encim  machism  cac  provoc  \\\n",
       "0                      0.0  0.000000    0.0  ...    0.0      0.0  0.0     0.0   \n",
       "1                      0.0  0.000000    0.0  ...    0.0      0.0  0.0     0.0   \n",
       "2                      0.0  0.000000    0.0  ...    0.0      0.0  0.0     0.0   \n",
       "3                      0.0  0.000000    0.0  ...    0.0      0.0  0.0     0.0   \n",
       "4                      0.0  0.000000    0.0  ...    0.0      0.0  0.0     0.0   \n",
       "...                    ...       ...    ...  ...    ...      ...  ...     ...   \n",
       "392953                 0.0  0.000000    0.0  ...    0.0      0.0  0.0     0.0   \n",
       "392955                 0.0  0.000000    0.0  ...    0.0      0.0  0.0     0.0   \n",
       "392956                 0.0  0.674679    0.0  ...    0.0      0.0  0.0     0.0   \n",
       "392959                 0.0  0.000000    0.0  ...    0.0      0.0  0.0     0.0   \n",
       "392961                 0.0  0.000000    0.0  ...    0.0      0.0  0.0     0.0   \n",
       "\n",
       "        jamas  quiz  parid  arma  siqu  noalasesinat  \n",
       "0         0.0   0.0    0.0   0.0   0.0           0.0  \n",
       "1         0.0   0.0    0.0   0.0   0.0           0.0  \n",
       "2         0.0   0.0    0.0   0.0   0.0           0.0  \n",
       "3         0.0   0.0    0.0   0.0   0.0           0.0  \n",
       "4         0.0   0.0    0.0   0.0   0.0           0.0  \n",
       "...       ...   ...    ...   ...   ...           ...  \n",
       "392953    0.0   0.0    0.0   0.0   0.0           0.0  \n",
       "392955    0.0   0.0    0.0   0.0   0.0           0.0  \n",
       "392956    0.0   0.0    0.0   0.0   0.0           0.0  \n",
       "392959    0.0   0.0    0.0   0.0   0.0           0.0  \n",
       "392961    0.0   0.0    0.0   0.0   0.0           0.0  \n",
       "\n",
       "[169639 rows x 760 columns]"
      ]
     },
     "execution_count": 40,
     "metadata": {},
     "output_type": "execute_result"
    }
   ],
   "source": [
    "#df_unigramas=df_unigramas.reset_index(drop=True)\n",
    "df_unigramas"
   ]
  },
  {
   "cell_type": "code",
   "execution_count": 41,
   "metadata": {},
   "outputs": [
    {
     "data": {
      "text/plain": [
       "Index(['postura', 'abortolegaly', 'quesealey', 'noalabortoenargentin',\n",
       "       'argentinaesprov', 'hoy', 'abortosesionhistor', 'vid', 'mujer',\n",
       "       'noalabort',\n",
       "       ...\n",
       "       'encim', 'machism', 'cac', 'provoc', 'jamas', 'quiz', 'parid', 'arma',\n",
       "       'siqu', 'noalasesinat'],\n",
       "      dtype='object', length=759)"
      ]
     },
     "execution_count": 41,
     "metadata": {},
     "output_type": "execute_result"
    }
   ],
   "source": [
    "LDA_unigramas=df_unigramas.drop(['cleaned_tweet'], axis=1)\n",
    "# Renombrar la columna\n",
    "LDA_unigramas.rename(columns={'topico': 'postura'}, inplace=True)\n",
    "LDA_unigramas.columns"
   ]
  },
  {
   "cell_type": "code",
   "execution_count": 42,
   "metadata": {},
   "outputs": [],
   "source": [
    "LDA_unigramas.to_csv('G:/Unidades compartidas/Rocío doctorado/Proyecto NLP/Datos/LDA_unigramas.csv', index=False)"
   ]
  },
  {
   "cell_type": "markdown",
   "metadata": {},
   "source": [
    "# ANALISIS DE TRIGRAMA"
   ]
  },
  {
   "cell_type": "code",
   "execution_count": 43,
   "metadata": {},
   "outputs": [
    {
     "name": "stderr",
     "output_type": "stream",
     "text": [
      "c:\\Users\\Usuario\\AppData\\Local\\Programs\\Python\\Python312\\Lib\\site-packages\\sklearn\\linear_model\\_logistic.py:1256: FutureWarning: 'multi_class' was deprecated in version 1.5 and will be removed in 1.7. Use OneVsRestClassifier(LogisticRegression(..)) instead. Leave it to its default value to avoid this warning.\n",
      "  warnings.warn(\n"
     ]
    },
    {
     "name": "stdout",
     "output_type": "stream",
     "text": [
      "Accuracy en el conjunto de prueba: 0.71\n",
      "Accuracy en el conjunto de entrenamiento: 0.75\n",
      "\n",
      "Top Trigramas por Chi-cuadrado:\n"
     ]
    },
    {
     "data": {
      "text/html": [
       "<div>\n",
       "<style scoped>\n",
       "    .dataframe tbody tr th:only-of-type {\n",
       "        vertical-align: middle;\n",
       "    }\n",
       "\n",
       "    .dataframe tbody tr th {\n",
       "        vertical-align: top;\n",
       "    }\n",
       "\n",
       "    .dataframe thead th {\n",
       "        text-align: right;\n",
       "    }\n",
       "</style>\n",
       "<table border=\"1\" class=\"dataframe\">\n",
       "  <thead>\n",
       "    <tr style=\"text-align: right;\">\n",
       "      <th></th>\n",
       "      <th>trigram</th>\n",
       "      <th>chi2</th>\n",
       "      <th>p_value</th>\n",
       "    </tr>\n",
       "  </thead>\n",
       "  <tbody>\n",
       "    <tr>\n",
       "      <th>615061</th>\n",
       "      <td>plataform adhesion virtual</td>\n",
       "      <td>162.616396</td>\n",
       "      <td>3.034069e-37</td>\n",
       "    </tr>\n",
       "    <tr>\n",
       "      <th>42025</th>\n",
       "      <td>adhesion virtual abortolegaly</td>\n",
       "      <td>161.796088</td>\n",
       "      <td>4.583931e-37</td>\n",
       "    </tr>\n",
       "    <tr>\n",
       "      <th>293581</th>\n",
       "      <td>estam plataform adhesion</td>\n",
       "      <td>161.078259</td>\n",
       "      <td>6.577586e-37</td>\n",
       "    </tr>\n",
       "    <tr>\n",
       "      <th>68513</th>\n",
       "      <td>aqu estam plataform</td>\n",
       "      <td>159.980505</td>\n",
       "      <td>1.142636e-36</td>\n",
       "    </tr>\n",
       "    <tr>\n",
       "      <th>13318</th>\n",
       "      <td>abort segur gratuit</td>\n",
       "      <td>131.497958</td>\n",
       "      <td>1.926725e-30</td>\n",
       "    </tr>\n",
       "    <tr>\n",
       "      <th>...</th>\n",
       "      <td>...</td>\n",
       "      <td>...</td>\n",
       "      <td>...</td>\n",
       "    </tr>\n",
       "    <tr>\n",
       "      <th>369810</th>\n",
       "      <td>histor argentin abortoseraley</td>\n",
       "      <td>3.851514</td>\n",
       "      <td>4.970112e-02</td>\n",
       "    </tr>\n",
       "    <tr>\n",
       "      <th>9244</th>\n",
       "      <td>abort mat argentinaesprov</td>\n",
       "      <td>3.846470</td>\n",
       "      <td>4.985080e-02</td>\n",
       "    </tr>\n",
       "    <tr>\n",
       "      <th>696289</th>\n",
       "      <td>respet vid human</td>\n",
       "      <td>3.846304</td>\n",
       "      <td>4.985574e-02</td>\n",
       "    </tr>\n",
       "    <tr>\n",
       "      <th>537735</th>\n",
       "      <td>ningun caus elimin</td>\n",
       "      <td>3.844757</td>\n",
       "      <td>4.990175e-02</td>\n",
       "    </tr>\n",
       "    <tr>\n",
       "      <th>664196</th>\n",
       "      <td>que nunc argentinaesprov</td>\n",
       "      <td>3.843132</td>\n",
       "      <td>4.995013e-02</td>\n",
       "    </tr>\n",
       "  </tbody>\n",
       "</table>\n",
       "<p>1368 rows × 3 columns</p>\n",
       "</div>"
      ],
      "text/plain": [
       "                              trigram        chi2       p_value\n",
       "615061     plataform adhesion virtual  162.616396  3.034069e-37\n",
       "42025   adhesion virtual abortolegaly  161.796088  4.583931e-37\n",
       "293581       estam plataform adhesion  161.078259  6.577586e-37\n",
       "68513             aqu estam plataform  159.980505  1.142636e-36\n",
       "13318             abort segur gratuit  131.497958  1.926725e-30\n",
       "...                               ...         ...           ...\n",
       "369810  histor argentin abortoseraley    3.851514  4.970112e-02\n",
       "9244        abort mat argentinaesprov    3.846470  4.985080e-02\n",
       "696289               respet vid human    3.846304  4.985574e-02\n",
       "537735             ningun caus elimin    3.844757  4.990175e-02\n",
       "664196       que nunc argentinaesprov    3.843132  4.995013e-02\n",
       "\n",
       "[1368 rows x 3 columns]"
      ]
     },
     "execution_count": 43,
     "metadata": {},
     "output_type": "execute_result"
    }
   ],
   "source": [
    "from sklearn.feature_extraction.text import TfidfVectorizer\n",
    "from sklearn.linear_model import LogisticRegression\n",
    "from sklearn.model_selection import train_test_split\n",
    "from sklearn.metrics import confusion_matrix, accuracy_score\n",
    "from sklearn.feature_selection import chi2  # Asegúrate de importar chi2\n",
    "import pandas as pd\n",
    "import numpy as np\n",
    "\n",
    "# Separar las características y las etiquetas\n",
    "X = df_preproces['cleaned_tweet']\n",
    "y = df_preproces['topico']  # Asegúrate de que esta columna contiene las clases\n",
    "\n",
    "# Dividir el dataset en conjunto de entrenamiento y de prueba\n",
    "X_train, X_test, y_train, y_test = train_test_split(X, y, test_size=0.2, random_state=42)\n",
    "\n",
    "# Crear el pipeline para vectorización y regresión logística con 3-gramas\n",
    "tfidf_vectorizer = TfidfVectorizer(ngram_range=(3, 3))  # Cambiado a 3-gramas\n",
    "X_train_vectorized = tfidf_vectorizer.fit_transform(X_train)\n",
    "X_test_vectorized = tfidf_vectorizer.transform(X_test)\n",
    "\n",
    "# Entrenar el modelo de regresión logística\n",
    "logistic_model = LogisticRegression(multi_class='ovr', max_iter=1000)\n",
    "logistic_model.fit(X_train_vectorized, y_train)\n",
    "\n",
    "# Evaluar el modelo en el conjunto de prueba\n",
    "accuracy_test = logistic_model.score(X_test_vectorized, y_test)\n",
    "print(f'Accuracy en el conjunto de prueba: {accuracy_test:.2f}')\n",
    "\n",
    "# Evaluar el modelo en el conjunto de entrenamiento\n",
    "accuracy_train = logistic_model.score(X_train_vectorized, y_train)\n",
    "print(f'Accuracy en el conjunto de entrenamiento: {accuracy_train:.2f}')\n",
    "\n",
    "# Calcular Chi-cuadrado\n",
    "chi2_values, p_values = chi2(X_train_vectorized, y_train)\n",
    "vocabulario = tfidf_vectorizer.get_feature_names_out()\n",
    "\n",
    "# Crear un DataFrame para los resultados de Chi-cuadrado\n",
    "chi2_results = pd.DataFrame({\n",
    "    'trigram': vocabulario,\n",
    "    'chi2': chi2_values,\n",
    "    'p_value': p_values\n",
    "})\n",
    "\n",
    "# Filtrar trigramas con p-valor significativo (ejemplo: p < 0.05)\n",
    "chi2_results = chi2_results[chi2_results['p_value'] < 0.05]\n",
    "\n",
    "# Ordenar por valor Chi-cuadrado\n",
    "chi2_results = chi2_results.sort_values(by='chi2', ascending=False)\n",
    "\n",
    "# Imprimir los resultados de Chi-cuadrado\n",
    "print(\"\\nTop Trigramas por Chi-cuadrado:\")\n",
    "chi2_results\n"
   ]
  },
  {
   "cell_type": "code",
   "execution_count": 44,
   "metadata": {},
   "outputs": [
    {
     "data": {
      "image/png": "[encoded data removed]",
      "text/plain": [
       "<Figure size 1000x600 with 1 Axes>"
      ]
     },
     "metadata": {},
     "output_type": "display_data"
    }
   ],
   "source": [
    "import matplotlib.pyplot as plt\n",
    "\n",
    "# ... (tu código anterior para el entrenamiento del modelo)\n",
    "\n",
    "# Obtener los coeficientes del modelo\n",
    "coeficientes = logistic_model.coef_\n",
    "\n",
    "# Dado que el modelo es multiclase (ovr), tomamos solo los coeficientes de la primera clase\n",
    "# Si tienes múltiples clases, puedes iterar sobre ellas, pero aquí tomamos solo el primer conjunto\n",
    "coeficientes_clase_0 = coeficientes[0]\n",
    "\n",
    "# Crear el histograma de los coeficientes\n",
    "plt.figure(figsize=(10, 6))\n",
    "plt.hist(coeficientes_clase_0, bins=30, color='skyblue', edgecolor='black')\n",
    "plt.title('Histograma de Coeficientes del Modelo de Regresión Logística')\n",
    "plt.xlabel('Valor del Coeficiente')\n",
    "plt.ylabel('Frecuencia')\n",
    "plt.grid(axis='y', alpha=0.75)\n",
    "plt.axvline(0, color='red', linestyle='--')  # Línea vertical en 0\n",
    "plt.show()\n"
   ]
  },
  {
   "cell_type": "code",
   "execution_count": 45,
   "metadata": {},
   "outputs": [
    {
     "name": "stdout",
     "output_type": "stream",
     "text": [
      "\n",
      "Top 10 3-gramas más importantes por importancia relativa:\n",
      "                                                   3grama  coeficiente  \\\n",
      "13318                                 abort segur gratuit    -5.338129   \n",
      "713588  salvemoslasdosv argentinaesprov noalabortoenar...     5.336526   \n",
      "863892                             vot favor abortolegaly    -4.883470   \n",
      "7863                             abort legal abortolegaly    -4.519096   \n",
      "13656                                      abort si abort    -4.208021   \n",
      "2772                        abort clandestin abortolegaly    -4.167304   \n",
      "8394                                    abort legal segur    -4.094967   \n",
      "339859                                   graci defend vid     4.084742   \n",
      "863886                              vot favor abortolegal     4.048795   \n",
      "724499                         segur gratuit abortolegaly    -4.041358   \n",
      "\n",
      "        importancia_relativa  \n",
      "13318               0.000050  \n",
      "713588              0.000050  \n",
      "863892              0.000046  \n",
      "7863                0.000042  \n",
      "13656               0.000039  \n",
      "2772                0.000039  \n",
      "8394                0.000038  \n",
      "339859              0.000038  \n",
      "863886              0.000038  \n",
      "724499              0.000038  \n"
     ]
    },
    {
     "data": {
      "image/png": "[encoded data removed]",
      "text/plain": [
       "<Figure size 1200x800 with 1 Axes>"
      ]
     },
     "metadata": {},
     "output_type": "display_data"
    }
   ],
   "source": [
    "# Obtener los coeficientes del modelo\n",
    "coeficientes = logistic_model.coef_\n",
    "\n",
    "# Tomar los coeficientes de la primera clase (si tienes un modelo OVR)\n",
    "coeficientes_clase_0 = coeficientes[0]\n",
    "\n",
    "# Obtener los nombres de los 3-gramas\n",
    "nombres_3gramas = tfidf_vectorizer.get_feature_names_out()\n",
    "\n",
    "# Crear un DataFrame con los coeficientes y sus nombres\n",
    "importancia_df = pd.DataFrame({\n",
    "    '3grama': nombres_3gramas,\n",
    "    'coeficiente': coeficientes_clase_0\n",
    "})\n",
    "\n",
    "# Calcular la importancia relativa\n",
    "importancia_df['importancia_relativa'] = np.abs(importancia_df['coeficiente']) / np.sum(np.abs(importancia_df['coeficiente']))\n",
    "\n",
    "# Ordenar por importancia relativa\n",
    "importancia_df = importancia_df.sort_values(by='importancia_relativa', ascending=False)\n",
    "\n",
    "# Mostrar las primeras 10 3-gramas más importantes\n",
    "print(\"\\nTop 10 3-gramas más importantes por importancia relativa:\")\n",
    "print(importancia_df.head(10))\n",
    "\n",
    "# Visualizar la importancia relativa\n",
    "plt.figure(figsize=(12, 8))\n",
    "plt.barh(importancia_df['3grama'][:10], importancia_df['importancia_relativa'][:10], color='skyblue')\n",
    "plt.xlabel('Importancia Relativa')\n",
    "plt.title('Top 10 3-gramas más importantes')\n",
    "plt.grid(axis='x', alpha=0.75)\n",
    "plt.show()\n"
   ]
  },
  {
   "cell_type": "code",
   "execution_count": 46,
   "metadata": {},
   "outputs": [
    {
     "name": "stdout",
     "output_type": "stream",
     "text": [
      "\n",
      "3-gramas por encima del percentil 99 (valor del percentil: 0.0000):\n",
      "                                                   3grama  \\\n",
      "13318                                 abort segur gratuit   \n",
      "713588  salvemoslasdosv argentinaesprov noalabortoenar...   \n",
      "863892                             vot favor abortolegaly   \n",
      "7863                             abort legal abortolegaly   \n",
      "13656                                      abort si abort   \n",
      "...                                                   ...   \n",
      "23249   abortolegaly abortolegalessalud abortolegalseg...   \n",
      "161877                                        cre deb ser   \n",
      "553205         noalabortoenargentin noalabort debateabort   \n",
      "353508                                       hac cos bien   \n",
      "351332                                        habl si sol   \n",
      "\n",
      "        importancia_relativa  \n",
      "13318               0.000050  \n",
      "713588              0.000050  \n",
      "863892              0.000046  \n",
      "7863                0.000042  \n",
      "13656               0.000039  \n",
      "...                      ...  \n",
      "23249               0.000004  \n",
      "161877              0.000004  \n",
      "553205              0.000004  \n",
      "353508              0.000004  \n",
      "351332              0.000004  \n",
      "\n",
      "[8756 rows x 2 columns]\n"
     ]
    }
   ],
   "source": [
    "# Calcular el percentil 99 de la importancia relativa\n",
    "percentil_99 = importancia_df['importancia_relativa'].quantile(0.99)\n",
    "\n",
    "# Filtrar los 3-gramas que están por encima del percentil 99\n",
    "tres_gramas_importantes = importancia_df[importancia_df['importancia_relativa'] > percentil_99]\n",
    "\n",
    "# Mostrar los resultados\n",
    "print(f\"\\n3-gramas por encima del percentil 99 (valor del percentil: {percentil_99:.4f}):\")\n",
    "print(tres_gramas_importantes[['3grama', 'importancia_relativa']])\n"
   ]
  },
  {
   "cell_type": "markdown",
   "metadata": {},
   "source": [
    "# AGREGAR TRIGRAMAS DE LA TABLA CHI-CUADRADO"
   ]
  },
  {
   "cell_type": "code",
   "execution_count": 47,
   "metadata": {},
   "outputs": [
    {
     "name": "stdout",
     "output_type": "stream",
     "text": [
      "\n",
      "DataFrame Original con Unigramas de Mayor Peso:\n"
     ]
    },
    {
     "data": {
      "text/plain": [
       "Index(['cleaned_tweet', 'topico', 'plataform adhesion virtual',\n",
       "       'adhesion virtual abortolegaly', 'estam plataform adhesion',\n",
       "       'aqu estam plataform', 'abort segur gratuit',\n",
       "       'sexual anticoncept abort', 'educ sexual anticoncept',\n",
       "       'segur gratuit abortolegaly',\n",
       "       ...\n",
       "       'abortolegaly abortolegalseguroygratuit quesealey',\n",
       "       'si la argentinaesprov', 'march vid no', 'tom colegi abortolegal',\n",
       "       'corr riesg vid', 'histor argentin abortoseraley',\n",
       "       'abort mat argentinaesprov', 'respet vid human', 'ningun caus elimin',\n",
       "       'que nunc argentinaesprov'],\n",
       "      dtype='object', length=1370)"
      ]
     },
     "execution_count": 47,
     "metadata": {},
     "output_type": "execute_result"
    }
   ],
   "source": [
    "\n",
    "# Extraer solo las palabras de top_20_features\n",
    "top_features_words_chi = chi2_results['trigram'].tolist()\n",
    "# Crear un nuevo vectorizador usando solo las palabras de top_20_features\n",
    "custom_vectorizer = TfidfVectorizer(vocabulary=top_features_words_chi)\n",
    "\n",
    "# Ajustar y transformar el DataFrame original\n",
    "X_custom = custom_vectorizer.fit_transform(df_preproces['cleaned_tweet'])\n",
    "\n",
    "# Convertir la matriz resultante a un DataFrame\n",
    "X_custom_df = pd.DataFrame(X_custom.toarray(), columns=custom_vectorizer.get_feature_names_out(), index=df_preproces.index)\n",
    "\n",
    "# Agregar las nuevas características al DataFrame original\n",
    "df_trigrams_chi = pd.concat([df_preproces, X_custom_df], axis=1)\n",
    "\n",
    "# Mostrar el DataFrame original con las nuevas columnas\n",
    "print(\"\\nDataFrame Original con Unigramas de Mayor Peso:\")\n",
    "df_trigrams_chi.columns"
   ]
  },
  {
   "cell_type": "code",
   "execution_count": 48,
   "metadata": {},
   "outputs": [
    {
     "data": {
      "text/plain": [
       "Index(['postura', 'plataform adhesion virtual',\n",
       "       'adhesion virtual abortolegaly', 'estam plataform adhesion',\n",
       "       'aqu estam plataform', 'abort segur gratuit',\n",
       "       'sexual anticoncept abort', 'educ sexual anticoncept',\n",
       "       'segur gratuit abortolegaly', 'anticoncept abort legal',\n",
       "       ...\n",
       "       'abortolegaly abortolegalseguroygratuit quesealey',\n",
       "       'si la argentinaesprov', 'march vid no', 'tom colegi abortolegal',\n",
       "       'corr riesg vid', 'histor argentin abortoseraley',\n",
       "       'abort mat argentinaesprov', 'respet vid human', 'ningun caus elimin',\n",
       "       'que nunc argentinaesprov'],\n",
       "      dtype='object', length=1369)"
      ]
     },
     "execution_count": 48,
     "metadata": {},
     "output_type": "execute_result"
    }
   ],
   "source": [
    "LDA_trigramas=df_trigrams_chi.drop(['cleaned_tweet'], axis=1)\n",
    "# Renombrar la columna\n",
    "LDA_trigramas.rename(columns={'topico': 'postura'}, inplace=True)\n",
    "LDA_trigramas.columns"
   ]
  },
  {
   "cell_type": "code",
   "execution_count": 49,
   "metadata": {},
   "outputs": [],
   "source": [
    "LDA_trigramas.to_csv('G:/Unidades compartidas/Rocío doctorado/Proyecto NLP/Datos/LDA_trigramas.csv', index=False)"
   ]
  },
  {
   "cell_type": "markdown",
   "metadata": {},
   "source": [
    "# ANALISIS DE SENTIMIENTOS"
   ]
  },
  {
   "cell_type": "code",
   "execution_count": 50,
   "metadata": {},
   "outputs": [
    {
     "data": {
      "text/plain": [
       "0         En el fondo lo que les jode es nuestra liberta...\n",
       "1         holla! me gustaría q ayuden a esta junta d fir...\n",
       "2         Porque somos dueñas de nuestrxs cuerpas #NoVot...\n",
       "3         #NoVotenContraLasMujeres estoy tan a la mitad ...\n",
       "4             Que los   #NoVotenContraLasMujeres #QueSeaLey\n",
       "                                ...                        \n",
       "392953    Exacto.  #NoAlAborto #SiALaVida #SalvemosLas2V...\n",
       "392955                         Tal cual. #SalvemosLas2Vidas\n",
       "392956                     Y una vida terminada #NoAlAborto\n",
       "392959    Ojalá los médicos se organicen y marchen para ...\n",
       "392961    Debe estar senil ya pobre. Avísenle que el bla...\n",
       "Name: full_text_cleaned, Length: 169639, dtype: object"
      ]
     },
     "execution_count": 50,
     "metadata": {},
     "output_type": "execute_result"
    }
   ],
   "source": [
    "lda_filtradas_filtrada['full_text_cleaned']"
   ]
  },
  {
   "cell_type": "code",
   "execution_count": 51,
   "metadata": {},
   "outputs": [
    {
     "name": "stdout",
     "output_type": "stream",
     "text": [
      "                                   full_text_cleaned  cantidad_positivas  \\\n",
      "0  En el fondo lo que les jode es nuestra liberta...                   1   \n",
      "1  holla! me gustaría q ayuden a esta junta d fir...                   2   \n",
      "2  Porque somos dueñas de nuestrxs cuerpas #NoVot...                   0   \n",
      "3  #NoVotenContraLasMujeres estoy tan a la mitad ...                   0   \n",
      "4      Que los   #NoVotenContraLasMujeres #QueSeaLey                   0   \n",
      "\n",
      "   cantidad_negativas  \n",
      "0                   1  \n",
      "1                   3  \n",
      "2                   0  \n",
      "3                   2  \n",
      "4                   0  \n"
     ]
    }
   ],
   "source": [
    "import pandas as pd\n",
    "import re\n",
    "\n",
    "# Cargar el diccionario NRC en español como un archivo CSV con columnas 'palabra' y 'sentimiento'\n",
    "diccionario = pd.read_csv(\"G:/Unidades compartidas/Rocío doctorado/Proyecto NLP/Datos/lexico_nrc.csv\")\n",
    "\n",
    "# Convertimos a conjuntos de palabras para agilizar la búsqueda\n",
    "palabras_positivas = set(diccionario[diccionario['sentimiento'] == 'positivo']['palabra'])\n",
    "palabras_negativas = set(diccionario[diccionario['sentimiento'] == 'negativo']['palabra'])\n",
    "\n",
    "# Función para preprocesar el texto\n",
    "def limpiar_texto(texto):\n",
    "    texto = texto.lower()\n",
    "    texto = re.sub(r'http\\S+', '', texto)  # Eliminar enlaces\n",
    "    texto = re.sub(r'@\\w+', '', texto)  # Eliminar menciones\n",
    "    texto = re.sub(r'#\\w+', '', texto)  # Eliminar hashtags\n",
    "    texto = re.sub(r'[^a-záéíóúñü\\s]', '', texto)  # Eliminar caracteres especiales\n",
    "    return texto.split()\n",
    "\n",
    "# Función para contar palabras positivas y negativas en un tweet\n",
    "def contar_palabras_sentimiento(tweet):\n",
    "    palabras = limpiar_texto(tweet)\n",
    "    positivos = sum(1 for palabra in palabras if palabra in palabras_positivas)\n",
    "    negativos = sum(1 for palabra in palabras if palabra in palabras_negativas)\n",
    "    return pd.Series([positivos, negativos])\n",
    "\n",
    "# Aplicar la función a cada tweet y crear las nuevas columnas en el DataFrame\n",
    "lda_filtradas_filtrada[['cantidad_positivas', 'cantidad_negativas']] =lda_filtradas['full_text_cleaned'].apply(contar_palabras_sentimiento)\n",
    "\n",
    "# Mostrar el DataFrame para verificar los resultados\n",
    "print(lda_filtradas_filtrada[['full_text_cleaned', 'cantidad_positivas', 'cantidad_negativas']].head())\n"
   ]
  },
  {
   "cell_type": "code",
   "execution_count": 52,
   "metadata": {},
   "outputs": [
    {
     "name": "stdout",
     "output_type": "stream",
     "text": [
      "        cantidad_positivas  cantidad_negativas\n",
      "topico                                        \n",
      "0                 0.863259            1.451981\n",
      "1                 0.892533            1.333686\n"
     ]
    }
   ],
   "source": [
    "\n",
    "promedio_por_postura = lda_filtradas_filtrada.groupby('topico')[['cantidad_positivas', 'cantidad_negativas']].mean()\n",
    "print(promedio_por_postura)\n"
   ]
  },
  {
   "cell_type": "code",
   "execution_count": 53,
   "metadata": {},
   "outputs": [
    {
     "name": "stdout",
     "output_type": "stream",
     "text": [
      "topico\n",
      "0    0.407323\n",
      "1    0.449082\n",
      "Name: razon_positiva_negativa, dtype: float64\n"
     ]
    }
   ],
   "source": [
    "lda_filtradas_filtrada['razon_positiva_negativa'] = lda_filtradas_filtrada['cantidad_positivas'] / (lda_filtradas_filtrada['cantidad_negativas'] + 1)\n",
    "razon_por_postura = lda_filtradas_filtrada.groupby('topico')['razon_positiva_negativa'].mean()\n",
    "print(razon_por_postura)\n"
   ]
  },
  {
   "cell_type": "markdown",
   "metadata": {},
   "source": [
    "# Análisis de varianza (ANOVA) para comparar las medias de diferentes grupos de datos. Divide el conjunto de datos en dos categorías (positivas y negativas) basándose en la columna 'postura', y luego calcula la ANOVA por separado para las variables 'cantidad_positivas' y 'cantidad_negativas'."
   ]
  },
  {
   "cell_type": "code",
   "execution_count": 54,
   "metadata": {},
   "outputs": [
    {
     "name": "stdout",
     "output_type": "stream",
     "text": [
      "ANOVA para palabras positivas: F_onewayResult(statistic=28.302804199502862, pvalue=1.0387666626227135e-07)\n",
      "ANOVA para palabras negativas: F_onewayResult(statistic=198.7319017106972, pvalue=4.188661895871065e-45)\n"
     ]
    }
   ],
   "source": [
    "from scipy.stats import f_oneway\n",
    "\n",
    "grupos_positivos = [grupo['cantidad_positivas'].values for nombre, grupo in lda_filtradas_filtrada.groupby('topico')]\n",
    "grupos_negativos = [grupo['cantidad_negativas'].values for nombre, grupo in lda_filtradas_filtrada.groupby('topico')]\n",
    "\n",
    "anova_positivos = f_oneway(*grupos_positivos)\n",
    "anova_negativos = f_oneway(*grupos_negativos)\n",
    "\n",
    "print(\"ANOVA para palabras positivas:\", anova_positivos)\n",
    "print(\"ANOVA para palabras negativas:\", anova_negativos)\n"
   ]
  },
  {
   "cell_type": "code",
   "execution_count": 55,
   "metadata": {},
   "outputs": [
    {
     "data": {
      "text/plain": [
       "Index(['full_text', 'posicion', 'topico', 'full_text_cleaned', 'Question Mark',\n",
       "       'Question Mark Count', 'Starts with Question Mark',\n",
       "       'Ends with Mark Count', 'Upper Ratio', 'Exclamation Mark',\n",
       "       'Exclamation Mark Count', 'Ellipsis Occurrence', 'Hashtag Presence',\n",
       "       'Text Length', 'URL Count', 'Quotes', 'cantidad_positivas',\n",
       "       'cantidad_negativas', 'razon_positiva_negativa'],\n",
       "      dtype='object')"
      ]
     },
     "execution_count": 55,
     "metadata": {},
     "output_type": "execute_result"
    }
   ],
   "source": [
    "lda_filtradas_filtrada.columns"
   ]
  },
  {
   "cell_type": "code",
   "execution_count": 56,
   "metadata": {},
   "outputs": [
    {
     "name": "stderr",
     "output_type": "stream",
     "text": [
      "C:\\Users\\Usuario\\AppData\\Local\\Temp\\ipykernel_5840\\2998420014.py:4: SettingWithCopyWarning: \n",
      "A value is trying to be set on a copy of a slice from a DataFrame\n",
      "\n",
      "See the caveats in the documentation: https://pandas.pydata.org/pandas-docs/stable/user_guide/indexing.html#returning-a-view-versus-a-copy\n",
      "  LDA_sentimientos.rename(columns={'topico': 'postura'}, inplace=True)\n"
     ]
    },
    {
     "data": {
      "text/plain": [
       "Index(['postura', 'cantidad_positivas', 'cantidad_negativas',\n",
       "       'razon_positiva_negativa'],\n",
       "      dtype='object')"
      ]
     },
     "execution_count": 56,
     "metadata": {},
     "output_type": "execute_result"
    }
   ],
   "source": [
    "LDA_sentimientos=lda_filtradas_filtrada[['topico',  'cantidad_positivas',\n",
    "       'cantidad_negativas', 'razon_positiva_negativa']]\n",
    "# Renombrar la columna\n",
    "LDA_sentimientos.rename(columns={'topico': 'postura'}, inplace=True)\n",
    "LDA_sentimientos.columns"
   ]
  },
  {
   "cell_type": "code",
   "execution_count": 57,
   "metadata": {},
   "outputs": [],
   "source": [
    "LDA_sentimientos.to_csv('G:/Unidades compartidas/Rocío doctorado/Proyecto NLP/Datos/Analisis_sentimiento_LDA.csv', index=False)"
   ]
  },
  {
   "cell_type": "markdown",
   "metadata": {},
   "source": [
    "# Unimos Todas las características en dos tablas, una que contiene los unigramas elegidos sefún el coeficiente obtenido en la regresión logísitica y otro con los unigramas que se obtuvieron por l aprueba chi_cuadrado"
   ]
  },
  {
   "cell_type": "code",
   "execution_count": 58,
   "metadata": {},
   "outputs": [],
   "source": [
    "lda_filtradas_filtrada=lda_filtradas_filtrada[['topico','Question Mark', 'Question Mark Count', 'Starts with Question Mark',\n",
    "       'Ends with Mark Count', 'Upper Ratio', 'Exclamation Mark',\n",
    "       'Exclamation Mark Count', 'Ellipsis Occurrence', 'Hashtag Presence',\n",
    "       'Text Length', 'URL Count', 'Quotes', \n",
    "       'cantidad_positivas', 'cantidad_negativas', 'razon_positiva_negativa']]\n",
    "df_unigramas_filtrado = df_unigramas.drop(columns=['cleaned_tweet', 'topico'])\n",
    "df_unigramas_chi_filtrado = df_unigramas_chi.drop(columns=['cleaned_tweet', 'topico'])"
   ]
  },
  {
   "cell_type": "code",
   "execution_count": 59,
   "metadata": {},
   "outputs": [
    {
     "name": "stdout",
     "output_type": "stream",
     "text": [
      "(169639, 774)\n"
     ]
    }
   ],
   "source": [
    "import pandas as pd\n",
    "\n",
    "# Supongamos que 'comunidades_filtradas' y 'df_unigramas' son tus DataFrames\n",
    "# Asegúrate de que tengan el mismo número de filas\n",
    "if lda_filtradas_filtrada.shape[0] == df_unigramas_filtrado.shape[0]:\n",
    "    # Concatenar DataFrames\n",
    "    df_combined = pd.concat([lda_filtradas_filtrada, df_unigramas_filtrado], axis=1)\n",
    "else:\n",
    "    print(\"Los DataFrames no tienen el mismo número de filas.\")\n",
    "\n",
    "# Verifica la forma del DataFrame resultante\n",
    "print(df_combined.shape)\n"
   ]
  },
  {
   "cell_type": "code",
   "execution_count": 60,
   "metadata": {},
   "outputs": [
    {
     "name": "stdout",
     "output_type": "stream",
     "text": [
      "(169639, 905)\n"
     ]
    }
   ],
   "source": [
    "import pandas as pd\n",
    "\n",
    "# Supongamos que 'comunidades_filtradas' y 'df_unigramas' son tus DataFrames\n",
    "# Asegúrate de que tengan el mismo número de filas\n",
    "if lda_filtradas_filtrada.shape[0] == df_unigramas_chi_filtrado.shape[0]:\n",
    "    # Concatenar DataFrames\n",
    "    df_combined_unigramas_chi = pd.concat([lda_filtradas_filtrada, df_unigramas_chi_filtrado], axis=1)\n",
    "else:\n",
    "    print(\"Los DataFrames no tienen el mismo número de filas.\")\n",
    "\n",
    "# Verifica la forma del DataFrame resultante\n",
    "print(df_combined_unigramas_chi.shape)\n"
   ]
  },
  {
   "cell_type": "code",
   "execution_count": 53,
   "metadata": {},
   "outputs": [],
   "source": [
    "df_combined.to_csv('g:/Unidades compartidas/Rocío doctorado/Proyecto NLP/Datos/LDA_modelos.csv', index=False)"
   ]
  },
  {
   "cell_type": "code",
   "execution_count": 54,
   "metadata": {},
   "outputs": [],
   "source": [
    "df_combined_unigramas_chi.to_csv('g:/Unidades compartidas/Rocío doctorado/Proyecto NLP/Datos/LDA_modelos_chi.csv', index=False)"
   ]
  }
 ],
 "metadata": {
  "kernelspec": {
   "display_name": "Python 3",
   "language": "python",
   "name": "python3"
  },
  "language_info": {
   "codemirror_mode": {
    "name": "ipython",
    "version": 3
   },
   "file_extension": ".py",
   "mimetype": "text/x-python",
   "name": "python",
   "nbconvert_exporter": "python",
   "pygments_lexer": "ipython3",
   "version": "3.12.0"
  }
 },
 "nbformat": 4,
 "nbformat_minor": 2
}
