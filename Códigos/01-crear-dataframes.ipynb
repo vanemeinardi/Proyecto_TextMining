{
 "cells": [
  {
   "cell_type": "code",
   "execution_count": 2,
   "metadata": {},
   "outputs": [],
   "source": [
    "import pandas as pd\n",
    "\n",
    "%matplotlib inline\n",
    "\n",
    "pd.set_option('display.max_colwidth', None)\n",
    "pd.set_option('display.max_rows', 999)"
   ]
  },
  {
   "cell_type": "code",
   "execution_count": 3,
   "metadata": {},
   "outputs": [
    {
     "name": "stdout",
     "output_type": "stream",
     "text": [
      "El directorio de trabajo actual es: g:\\Unidades compartidas\\Rocío doctorado\\Proyecto NLP\\Códigos\n"
     ]
    }
   ],
   "source": [
    "import os\n",
    "\n",
    "# Obtener el directorio de trabajo actual\n",
    "directorio_actual = os.getcwd()\n",
    "\n",
    "# Mostrar el directorio\n",
    "print(\"El directorio de trabajo actual es:\", directorio_actual)"
   ]
  },
  {
   "cell_type": "markdown",
   "metadata": {},
   "source": [
    "Leemos base de junio en formato csv y recreamos los tweets originales"
   ]
  },
  {
   "cell_type": "code",
   "execution_count": 4,
   "metadata": {},
   "outputs": [],
   "source": [
    "datos_junio=pd.read_csv('g:/Unidades compartidas/Rocío doctorado/Proyecto NLP/Datos/aborto_junio_tweets.csv',  encoding='utf8')"
   ]
  },
  {
   "cell_type": "code",
   "execution_count": 6,
   "metadata": {},
   "outputs": [
    {
     "data": {
      "text/html": [
       "<div>\n",
       "<style scoped>\n",
       "    .dataframe tbody tr th:only-of-type {\n",
       "        vertical-align: middle;\n",
       "    }\n",
       "\n",
       "    .dataframe tbody tr th {\n",
       "        vertical-align: top;\n",
       "    }\n",
       "\n",
       "    .dataframe thead th {\n",
       "        text-align: right;\n",
       "    }\n",
       "</style>\n",
       "<table border=\"1\" class=\"dataframe\">\n",
       "  <thead>\n",
       "    <tr style=\"text-align: right;\">\n",
       "      <th></th>\n",
       "      <th>id</th>\n",
       "      <th>created_at</th>\n",
       "      <th>favorite_count</th>\n",
       "      <th>retweet_count</th>\n",
       "      <th>full_text</th>\n",
       "      <th>posicion</th>\n",
       "      <th>favorited</th>\n",
       "      <th>retweeted</th>\n",
       "      <th>user_name</th>\n",
       "      <th>user_id</th>\n",
       "      <th>original_id</th>\n",
       "    </tr>\n",
       "  </thead>\n",
       "  <tbody>\n",
       "    <tr>\n",
       "      <th>0</th>\n",
       "      <td>1005600427080110080</td>\n",
       "      <td>Sat Jun 09 23:59:59 +0000 2018</td>\n",
       "      <td>0</td>\n",
       "      <td>14</td>\n",
       "      <td>RT @PTSarg: Contamos con una ventaja que ellos no tienen: nuestra decisión, nuestra convicción y nuestra fuerza de lucha. #NoVotenContraLas…</td>\n",
       "      <td>si</td>\n",
       "      <td>False</td>\n",
       "      <td>False</td>\n",
       "      <td>Luciana HL</td>\n",
       "      <td>3130302891</td>\n",
       "      <td>1005600427080110080</td>\n",
       "    </tr>\n",
       "    <tr>\n",
       "      <th>1</th>\n",
       "      <td>1005600422772527105</td>\n",
       "      <td>Sat Jun 09 23:59:58 +0000 2018</td>\n",
       "      <td>0</td>\n",
       "      <td>59</td>\n",
       "      <td>RT @juanabalmedina: Excelentes reflexiones de una médica ginecóloga, católica practicante, que dice “Me repugna un país donde después de un…</td>\n",
       "      <td>si</td>\n",
       "      <td>False</td>\n",
       "      <td>False</td>\n",
       "      <td>Oriana Ribeiro</td>\n",
       "      <td>383350997</td>\n",
       "      <td>1005600422772527105</td>\n",
       "    </tr>\n",
       "    <tr>\n",
       "      <th>2</th>\n",
       "      <td>1005600422269243397</td>\n",
       "      <td>Sat Jun 09 23:59:58 +0000 2018</td>\n",
       "      <td>2</td>\n",
       "      <td>0</td>\n",
       "      <td>En el fondo lo que les jode es nuestra libertad #NoVotenContraLasMujeres #AbortoLegalYA</td>\n",
       "      <td>si</td>\n",
       "      <td>False</td>\n",
       "      <td>False</td>\n",
       "      <td>Luz Scarpati</td>\n",
       "      <td>2999619141</td>\n",
       "      <td>1005600422269243397</td>\n",
       "    </tr>\n",
       "    <tr>\n",
       "      <th>3</th>\n",
       "      <td>1005600416862801921</td>\n",
       "      <td>Sat Jun 09 23:59:57 +0000 2018</td>\n",
       "      <td>0</td>\n",
       "      <td>0</td>\n",
       "      <td>holla! me gustaría q ayuden a esta junta d firmas para el aborto seguro y gratuito, gracias   Aprueben la Ley de Aborto Seguro y Gratuito @DiputadosAR #abortolegalya #13JAbortoLegal https://t.co/aT9bKgrh9P via @ChangeorgAR</td>\n",
       "      <td>si</td>\n",
       "      <td>False</td>\n",
       "      <td>False</td>\n",
       "      <td>gigi not hadid</td>\n",
       "      <td>3668114236</td>\n",
       "      <td>1005600416862801921</td>\n",
       "    </tr>\n",
       "    <tr>\n",
       "      <th>4</th>\n",
       "      <td>1005600413838692352</td>\n",
       "      <td>Sat Jun 09 23:59:56 +0000 2018</td>\n",
       "      <td>0</td>\n",
       "      <td>308</td>\n",
       "      <td>RT @femialborto: A vos que decís #Salvemoslasdosvidas te pido que escuches esto, que intentes abrir la mente y entender las palabras, son m…</td>\n",
       "      <td>si</td>\n",
       "      <td>False</td>\n",
       "      <td>False</td>\n",
       "      <td>niña de tilcara🌰</td>\n",
       "      <td>828222093804371968</td>\n",
       "      <td>1005600413838692352</td>\n",
       "    </tr>\n",
       "  </tbody>\n",
       "</table>\n",
       "</div>"
      ],
      "text/plain": [
       "                    id                      created_at  favorite_count  \\\n",
       "0  1005600427080110080  Sat Jun 09 23:59:59 +0000 2018               0   \n",
       "1  1005600422772527105  Sat Jun 09 23:59:58 +0000 2018               0   \n",
       "2  1005600422269243397  Sat Jun 09 23:59:58 +0000 2018               2   \n",
       "3  1005600416862801921  Sat Jun 09 23:59:57 +0000 2018               0   \n",
       "4  1005600413838692352  Sat Jun 09 23:59:56 +0000 2018               0   \n",
       "\n",
       "   retweet_count  \\\n",
       "0             14   \n",
       "1             59   \n",
       "2              0   \n",
       "3              0   \n",
       "4            308   \n",
       "\n",
       "                                                                                                                                                                                                                        full_text  \\\n",
       "0                                                                                    RT @PTSarg: Contamos con una ventaja que ellos no tienen: nuestra decisión, nuestra convicción y nuestra fuerza de lucha. #NoVotenContraLas…   \n",
       "1                                                                                    RT @juanabalmedina: Excelentes reflexiones de una médica ginecóloga, católica practicante, que dice “Me repugna un país donde después de un…   \n",
       "2                                                                                                                                         En el fondo lo que les jode es nuestra libertad #NoVotenContraLasMujeres #AbortoLegalYA   \n",
       "3  holla! me gustaría q ayuden a esta junta d firmas para el aborto seguro y gratuito, gracias   Aprueben la Ley de Aborto Seguro y Gratuito @DiputadosAR #abortolegalya #13JAbortoLegal https://t.co/aT9bKgrh9P via @ChangeorgAR   \n",
       "4                                                                                    RT @femialborto: A vos que decís #Salvemoslasdosvidas te pido que escuches esto, que intentes abrir la mente y entender las palabras, son m…   \n",
       "\n",
       "  posicion  favorited  retweeted         user_name             user_id  \\\n",
       "0       si      False      False        Luciana HL          3130302891   \n",
       "1       si      False      False    Oriana Ribeiro           383350997   \n",
       "2       si      False      False      Luz Scarpati          2999619141   \n",
       "3       si      False      False    gigi not hadid          3668114236   \n",
       "4       si      False      False  niña de tilcara🌰  828222093804371968   \n",
       "\n",
       "           original_id  \n",
       "0  1005600427080110080  \n",
       "1  1005600422772527105  \n",
       "2  1005600422269243397  \n",
       "3  1005600416862801921  \n",
       "4  1005600413838692352  "
      ]
     },
     "execution_count": 6,
     "metadata": {},
     "output_type": "execute_result"
    }
   ],
   "source": [
    "datos_junio.head()"
   ]
  },
  {
   "cell_type": "code",
   "execution_count": 7,
   "metadata": {},
   "outputs": [
    {
     "data": {
      "text/plain": [
       "Index(['id', 'created_at', 'favorite_count', 'retweet_count', 'full_text',\n",
       "       'posicion', 'favorited', 'retweeted', 'user_name', 'user_id',\n",
       "       'original_id'],\n",
       "      dtype='object')"
      ]
     },
     "execution_count": 7,
     "metadata": {},
     "output_type": "execute_result"
    }
   ],
   "source": [
    "datos_junio.columns"
   ]
  },
  {
   "cell_type": "markdown",
   "metadata": {},
   "source": [
    "Eliminamos las columnas que no sirven "
   ]
  },
  {
   "cell_type": "code",
   "execution_count": 8,
   "metadata": {},
   "outputs": [],
   "source": [
    "datos_junio=datos_junio.drop(['id', 'created_at', 'favorite_count', 'favorited', 'retweeted','original_id'], axis=1)"
   ]
  },
  {
   "cell_type": "code",
   "execution_count": 9,
   "metadata": {},
   "outputs": [
    {
     "name": "stdout",
     "output_type": "stream",
     "text": [
      "<class 'pandas.core.frame.DataFrame'>\n",
      "RangeIndex: 1041585 entries, 0 to 1041584\n",
      "Data columns (total 5 columns):\n",
      " #   Column         Non-Null Count    Dtype \n",
      "---  ------         --------------    ----- \n",
      " 0   retweet_count  1041585 non-null  int64 \n",
      " 1   full_text      1041585 non-null  object\n",
      " 2   posicion       1041585 non-null  object\n",
      " 3   user_name      1041528 non-null  object\n",
      " 4   user_id        1041585 non-null  int64 \n",
      "dtypes: int64(2), object(3)\n",
      "memory usage: 39.7+ MB\n"
     ]
    }
   ],
   "source": [
    "datos_junio.info()"
   ]
  },
  {
   "cell_type": "markdown",
   "metadata": {},
   "source": [
    "Eliina salto de líneas y retorno de carros"
   ]
  },
  {
   "cell_type": "code",
   "execution_count": 10,
   "metadata": {},
   "outputs": [],
   "source": [
    "clean_text = lambda s: s.replace('\\n', ' ').replace('\\r', ' ')"
   ]
  },
  {
   "cell_type": "code",
   "execution_count": 11,
   "metadata": {},
   "outputs": [],
   "source": [
    "datos_junio.full_text = datos_junio.full_text.apply(clean_text)"
   ]
  },
  {
   "cell_type": "code",
   "execution_count": 12,
   "metadata": {},
   "outputs": [
    {
     "data": {
      "text/plain": [
       "posicion\n",
       "si    780455\n",
       "no    261130\n",
       "Name: count, dtype: int64"
      ]
     },
     "execution_count": 12,
     "metadata": {},
     "output_type": "execute_result"
    }
   ],
   "source": [
    "datos_junio['posicion'].value_counts()"
   ]
  },
  {
   "cell_type": "markdown",
   "metadata": {},
   "source": [
    "Exportamos tablas"
   ]
  },
  {
   "cell_type": "code",
   "execution_count": 15,
   "metadata": {},
   "outputs": [],
   "source": [
    "# Exportar a un archivo CSV\n",
    "datos_junio.to_csv('g:/Unidades compartidas/Rocío doctorado/Proyecto NLP/Datos/tweets_junio_procesado.csv', index=False) "
   ]
  }
 ],
 "metadata": {
  "kernelspec": {
   "display_name": "Python 3",
   "language": "python",
   "name": "python3"
  },
  "language_info": {
   "codemirror_mode": {
    "name": "ipython",
    "version": 3
   },
   "file_extension": ".py",
   "mimetype": "text/x-python",
   "name": "python",
   "nbconvert_exporter": "python",
   "pygments_lexer": "ipython3",
   "version": "3.12.6"
  }
 },
 "nbformat": 4,
 "nbformat_minor": 2
}
